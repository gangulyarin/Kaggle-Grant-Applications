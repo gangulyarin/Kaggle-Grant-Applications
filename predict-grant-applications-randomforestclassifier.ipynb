{
 "cells": [
  {
   "cell_type": "code",
   "execution_count": 1,
   "id": "45053016",
   "metadata": {
    "_cell_guid": "b1076dfc-b9ad-4769-8c92-a6c4dae69d19",
    "_uuid": "8f2839f25d086af736a60e9eeb907d3b93b6e0e5",
    "execution": {
     "iopub.execute_input": "2023-08-20T13:18:59.676170Z",
     "iopub.status.busy": "2023-08-20T13:18:59.675658Z",
     "iopub.status.idle": "2023-08-20T13:18:59.692751Z",
     "shell.execute_reply": "2023-08-20T13:18:59.691728Z"
    },
    "papermill": {
     "duration": 0.040762,
     "end_time": "2023-08-20T13:18:59.695249",
     "exception": false,
     "start_time": "2023-08-20T13:18:59.654487",
     "status": "completed"
    },
    "tags": []
   },
   "outputs": [
    {
     "name": "stdout",
     "output_type": "stream",
     "text": [
      "/kaggle/input/unimelb/unimelb_training.csv\n",
      "/kaggle/input/unimelb/unimelb_example.csv\n",
      "/kaggle/input/unimelb/unimelb_test.csv\n"
     ]
    }
   ],
   "source": [
    "# This Python 3 environment comes with many helpful analytics libraries installed\n",
    "# It is defined by the kaggle/python Docker image: https://github.com/kaggle/docker-python\n",
    "# For example, here's several helpful packages to load\n",
    "\n",
    "import numpy as np # linear algebra\n",
    "import pandas as pd # data processing, CSV file I/O (e.g. pd.read_csv)\n",
    "\n",
    "# Input data files are available in the read-only \"../input/\" directory\n",
    "# For example, running this (by clicking run or pressing Shift+Enter) will list all files under the input directory\n",
    "\n",
    "import os\n",
    "for dirname, _, filenames in os.walk('/kaggle/input'):\n",
    "    for filename in filenames:\n",
    "        print(os.path.join(dirname, filename))\n",
    "\n",
    "# You can write up to 20GB to the current directory (/kaggle/working/) that gets preserved as output when you create a version using \"Save & Run All\" \n",
    "# You can also write temporary files to /kaggle/temp/, but they won't be saved outside of the current session"
   ]
  },
  {
   "cell_type": "code",
   "execution_count": 2,
   "id": "f2fb6d28",
   "metadata": {
    "execution": {
     "iopub.execute_input": "2023-08-20T13:18:59.733486Z",
     "iopub.status.busy": "2023-08-20T13:18:59.733109Z",
     "iopub.status.idle": "2023-08-20T13:19:00.106481Z",
     "shell.execute_reply": "2023-08-20T13:19:00.105365Z"
    },
    "papermill": {
     "duration": 0.396494,
     "end_time": "2023-08-20T13:19:00.110277",
     "exception": false,
     "start_time": "2023-08-20T13:18:59.713783",
     "status": "completed"
    },
    "tags": []
   },
   "outputs": [
    {
     "name": "stderr",
     "output_type": "stream",
     "text": [
      "/tmp/ipykernel_20/2348667015.py:1: DtypeWarning: Columns (90,105,119,120,123,124,132,134,135,138,139,147,149,150,153,154,162,164,165,168,169,177,179,183,184,192,194,198,199,207,209,213,214,224,237,239,244) have mixed types. Specify dtype option on import or set low_memory=False.\n",
      "  data = pd.read_csv('/kaggle/input/unimelb/unimelb_training.csv')\n"
     ]
    },
    {
     "data": {
      "text/html": [
       "<div>\n",
       "<style scoped>\n",
       "    .dataframe tbody tr th:only-of-type {\n",
       "        vertical-align: middle;\n",
       "    }\n",
       "\n",
       "    .dataframe tbody tr th {\n",
       "        vertical-align: top;\n",
       "    }\n",
       "\n",
       "    .dataframe thead th {\n",
       "        text-align: right;\n",
       "    }\n",
       "</style>\n",
       "<table border=\"1\" class=\"dataframe\">\n",
       "  <thead>\n",
       "    <tr style=\"text-align: right;\">\n",
       "      <th></th>\n",
       "      <th>Grant.Application.ID</th>\n",
       "      <th>Grant.Status</th>\n",
       "      <th>Sponsor.Code</th>\n",
       "      <th>Grant.Category.Code</th>\n",
       "      <th>Contract.Value.Band...see.note.A</th>\n",
       "      <th>Start.date</th>\n",
       "      <th>RFCD.Code.1</th>\n",
       "      <th>RFCD.Percentage.1</th>\n",
       "      <th>RFCD.Code.2</th>\n",
       "      <th>RFCD.Percentage.2</th>\n",
       "      <th>...</th>\n",
       "      <th>Faculty.No..15</th>\n",
       "      <th>With.PHD.15</th>\n",
       "      <th>No..of.Years.in.Uni.at.Time.of.Grant.15</th>\n",
       "      <th>Number.of.Successful.Grant.15</th>\n",
       "      <th>Number.of.Unsuccessful.Grant.15</th>\n",
       "      <th>A..15</th>\n",
       "      <th>A.15</th>\n",
       "      <th>B.15</th>\n",
       "      <th>C.15</th>\n",
       "      <th>Unnamed: 251</th>\n",
       "    </tr>\n",
       "  </thead>\n",
       "  <tbody>\n",
       "    <tr>\n",
       "      <th>0</th>\n",
       "      <td>1</td>\n",
       "      <td>1</td>\n",
       "      <td>NaN</td>\n",
       "      <td>NaN</td>\n",
       "      <td>A</td>\n",
       "      <td>8/11/05</td>\n",
       "      <td>280199.0</td>\n",
       "      <td>100.0</td>\n",
       "      <td>0.0</td>\n",
       "      <td>0.0</td>\n",
       "      <td>...</td>\n",
       "      <td>NaN</td>\n",
       "      <td>NaN</td>\n",
       "      <td>NaN</td>\n",
       "      <td>NaN</td>\n",
       "      <td>NaN</td>\n",
       "      <td>NaN</td>\n",
       "      <td>NaN</td>\n",
       "      <td>NaN</td>\n",
       "      <td>NaN</td>\n",
       "      <td>NaN</td>\n",
       "    </tr>\n",
       "    <tr>\n",
       "      <th>1</th>\n",
       "      <td>2</td>\n",
       "      <td>1</td>\n",
       "      <td>2B</td>\n",
       "      <td>10A</td>\n",
       "      <td>B</td>\n",
       "      <td>11/11/05</td>\n",
       "      <td>280103.0</td>\n",
       "      <td>30.0</td>\n",
       "      <td>280106.0</td>\n",
       "      <td>30.0</td>\n",
       "      <td>...</td>\n",
       "      <td>NaN</td>\n",
       "      <td>NaN</td>\n",
       "      <td>NaN</td>\n",
       "      <td>NaN</td>\n",
       "      <td>NaN</td>\n",
       "      <td>NaN</td>\n",
       "      <td>NaN</td>\n",
       "      <td>NaN</td>\n",
       "      <td>NaN</td>\n",
       "      <td>NaN</td>\n",
       "    </tr>\n",
       "    <tr>\n",
       "      <th>2</th>\n",
       "      <td>3</td>\n",
       "      <td>1</td>\n",
       "      <td>29A</td>\n",
       "      <td>10B</td>\n",
       "      <td>A</td>\n",
       "      <td>14/11/05</td>\n",
       "      <td>321004.0</td>\n",
       "      <td>60.0</td>\n",
       "      <td>321216.0</td>\n",
       "      <td>40.0</td>\n",
       "      <td>...</td>\n",
       "      <td>NaN</td>\n",
       "      <td>NaN</td>\n",
       "      <td>NaN</td>\n",
       "      <td>NaN</td>\n",
       "      <td>NaN</td>\n",
       "      <td>NaN</td>\n",
       "      <td>NaN</td>\n",
       "      <td>NaN</td>\n",
       "      <td>NaN</td>\n",
       "      <td>NaN</td>\n",
       "    </tr>\n",
       "    <tr>\n",
       "      <th>3</th>\n",
       "      <td>4</td>\n",
       "      <td>1</td>\n",
       "      <td>40D</td>\n",
       "      <td>10B</td>\n",
       "      <td>C</td>\n",
       "      <td>15/11/05</td>\n",
       "      <td>270602.0</td>\n",
       "      <td>50.0</td>\n",
       "      <td>320602.0</td>\n",
       "      <td>50.0</td>\n",
       "      <td>...</td>\n",
       "      <td>NaN</td>\n",
       "      <td>NaN</td>\n",
       "      <td>NaN</td>\n",
       "      <td>NaN</td>\n",
       "      <td>NaN</td>\n",
       "      <td>NaN</td>\n",
       "      <td>NaN</td>\n",
       "      <td>NaN</td>\n",
       "      <td>NaN</td>\n",
       "      <td>NaN</td>\n",
       "    </tr>\n",
       "    <tr>\n",
       "      <th>4</th>\n",
       "      <td>5</td>\n",
       "      <td>0</td>\n",
       "      <td>59C</td>\n",
       "      <td>10A</td>\n",
       "      <td>A</td>\n",
       "      <td>16/11/05</td>\n",
       "      <td>260500.0</td>\n",
       "      <td>34.0</td>\n",
       "      <td>280000.0</td>\n",
       "      <td>33.0</td>\n",
       "      <td>...</td>\n",
       "      <td>NaN</td>\n",
       "      <td>NaN</td>\n",
       "      <td>NaN</td>\n",
       "      <td>NaN</td>\n",
       "      <td>NaN</td>\n",
       "      <td>NaN</td>\n",
       "      <td>NaN</td>\n",
       "      <td>NaN</td>\n",
       "      <td>NaN</td>\n",
       "      <td>NaN</td>\n",
       "    </tr>\n",
       "  </tbody>\n",
       "</table>\n",
       "<p>5 rows × 252 columns</p>\n",
       "</div>"
      ],
      "text/plain": [
       "   Grant.Application.ID  Grant.Status Sponsor.Code Grant.Category.Code  \\\n",
       "0                     1             1          NaN                 NaN   \n",
       "1                     2             1           2B                 10A   \n",
       "2                     3             1          29A                 10B   \n",
       "3                     4             1          40D                 10B   \n",
       "4                     5             0          59C                 10A   \n",
       "\n",
       "  Contract.Value.Band...see.note.A Start.date  RFCD.Code.1  RFCD.Percentage.1  \\\n",
       "0                               A     8/11/05     280199.0              100.0   \n",
       "1                               B    11/11/05     280103.0               30.0   \n",
       "2                               A    14/11/05     321004.0               60.0   \n",
       "3                               C    15/11/05     270602.0               50.0   \n",
       "4                               A    16/11/05     260500.0               34.0   \n",
       "\n",
       "   RFCD.Code.2  RFCD.Percentage.2  ...  Faculty.No..15  With.PHD.15  \\\n",
       "0          0.0                0.0  ...             NaN          NaN   \n",
       "1     280106.0               30.0  ...             NaN          NaN   \n",
       "2     321216.0               40.0  ...             NaN          NaN   \n",
       "3     320602.0               50.0  ...             NaN          NaN   \n",
       "4     280000.0               33.0  ...             NaN          NaN   \n",
       "\n",
       "   No..of.Years.in.Uni.at.Time.of.Grant.15  Number.of.Successful.Grant.15  \\\n",
       "0                                      NaN                            NaN   \n",
       "1                                      NaN                            NaN   \n",
       "2                                      NaN                            NaN   \n",
       "3                                      NaN                            NaN   \n",
       "4                                      NaN                            NaN   \n",
       "\n",
       "   Number.of.Unsuccessful.Grant.15  A..15  A.15  B.15  C.15  Unnamed: 251  \n",
       "0                              NaN    NaN   NaN   NaN   NaN           NaN  \n",
       "1                              NaN    NaN   NaN   NaN   NaN           NaN  \n",
       "2                              NaN    NaN   NaN   NaN   NaN           NaN  \n",
       "3                              NaN    NaN   NaN   NaN   NaN           NaN  \n",
       "4                              NaN    NaN   NaN   NaN   NaN           NaN  \n",
       "\n",
       "[5 rows x 252 columns]"
      ]
     },
     "execution_count": 2,
     "metadata": {},
     "output_type": "execute_result"
    }
   ],
   "source": [
    "data = pd.read_csv('/kaggle/input/unimelb/unimelb_training.csv')\n",
    "data.head()"
   ]
  },
  {
   "cell_type": "code",
   "execution_count": 3,
   "id": "92fd7bdb",
   "metadata": {
    "execution": {
     "iopub.execute_input": "2023-08-20T13:19:00.162507Z",
     "iopub.status.busy": "2023-08-20T13:19:00.161402Z",
     "iopub.status.idle": "2023-08-20T13:19:00.169233Z",
     "shell.execute_reply": "2023-08-20T13:19:00.168088Z"
    },
    "papermill": {
     "duration": 0.034866,
     "end_time": "2023-08-20T13:19:00.171585",
     "exception": false,
     "start_time": "2023-08-20T13:19:00.136719",
     "status": "completed"
    },
    "tags": []
   },
   "outputs": [
    {
     "data": {
      "text/plain": [
       "252"
      ]
     },
     "execution_count": 3,
     "metadata": {},
     "output_type": "execute_result"
    }
   ],
   "source": [
    "len(data.columns)"
   ]
  },
  {
   "cell_type": "code",
   "execution_count": 4,
   "id": "ca1792f0",
   "metadata": {
    "execution": {
     "iopub.execute_input": "2023-08-20T13:19:00.211710Z",
     "iopub.status.busy": "2023-08-20T13:19:00.211329Z",
     "iopub.status.idle": "2023-08-20T13:19:00.224078Z",
     "shell.execute_reply": "2023-08-20T13:19:00.222920Z"
    },
    "papermill": {
     "duration": 0.035487,
     "end_time": "2023-08-20T13:19:00.226307",
     "exception": false,
     "start_time": "2023-08-20T13:19:00.190820",
     "status": "completed"
    },
    "tags": []
   },
   "outputs": [
    {
     "data": {
      "text/plain": [
       "['Grant.Application.ID',\n",
       " 'Grant.Status',\n",
       " 'Sponsor.Code',\n",
       " 'Grant.Category.Code',\n",
       " 'Contract.Value.Band...see.note.A',\n",
       " 'Start.date',\n",
       " 'RFCD.Code.1',\n",
       " 'RFCD.Percentage.1',\n",
       " 'RFCD.Code.2',\n",
       " 'RFCD.Percentage.2',\n",
       " 'RFCD.Code.3',\n",
       " 'RFCD.Percentage.3',\n",
       " 'RFCD.Code.4',\n",
       " 'RFCD.Percentage.4',\n",
       " 'RFCD.Code.5',\n",
       " 'RFCD.Percentage.5',\n",
       " 'SEO.Code.1',\n",
       " 'SEO.Percentage.1',\n",
       " 'SEO.Code.2',\n",
       " 'SEO.Percentage.2',\n",
       " 'SEO.Code.3',\n",
       " 'SEO.Percentage.3',\n",
       " 'SEO.Code.4',\n",
       " 'SEO.Percentage.4',\n",
       " 'SEO.Code.5',\n",
       " 'SEO.Percentage.5',\n",
       " 'Person.ID.1',\n",
       " 'Role.1',\n",
       " 'Year.of.Birth.1',\n",
       " 'Country.of.Birth.1',\n",
       " 'Home.Language.1',\n",
       " 'Dept.No..1',\n",
       " 'Faculty.No..1',\n",
       " 'With.PHD.1',\n",
       " 'No..of.Years.in.Uni.at.Time.of.Grant.1',\n",
       " 'Number.of.Successful.Grant.1',\n",
       " 'Number.of.Unsuccessful.Grant.1',\n",
       " 'A..1',\n",
       " 'A.1',\n",
       " 'B.1',\n",
       " 'C.1',\n",
       " 'Person.ID.2',\n",
       " 'Role.2',\n",
       " 'Year.of.Birth.2',\n",
       " 'Country.of.Birth.2',\n",
       " 'Home.Language.2',\n",
       " 'Dept.No..2',\n",
       " 'Faculty.No..2',\n",
       " 'With.PHD.2',\n",
       " 'No..of.Years.in.Uni.at.Time.of.Grant.2',\n",
       " 'Number.of.Successful.Grant.2',\n",
       " 'Number.of.Unsuccessful.Grant.2',\n",
       " 'A..2',\n",
       " 'A.2',\n",
       " 'B.2',\n",
       " 'C.2',\n",
       " 'Person.ID.3',\n",
       " 'Role.3',\n",
       " 'Year.of.Birth.3',\n",
       " 'Country.of.Birth.3',\n",
       " 'Home.Language.3',\n",
       " 'Dept.No..3',\n",
       " 'Faculty.No..3',\n",
       " 'With.PHD.3',\n",
       " 'No..of.Years.in.Uni.at.Time.of.Grant.3',\n",
       " 'Number.of.Successful.Grant.3',\n",
       " 'Number.of.Unsuccessful.Grant.3',\n",
       " 'A..3',\n",
       " 'A.3',\n",
       " 'B.3',\n",
       " 'C.3',\n",
       " 'Person.ID.4',\n",
       " 'Role.4',\n",
       " 'Year.of.Birth.4',\n",
       " 'Country.of.Birth.4',\n",
       " 'Home.Language.4',\n",
       " 'Dept.No..4',\n",
       " 'Faculty.No..4',\n",
       " 'With.PHD.4',\n",
       " 'No..of.Years.in.Uni.at.Time.of.Grant.4',\n",
       " 'Number.of.Successful.Grant.4',\n",
       " 'Number.of.Unsuccessful.Grant.4',\n",
       " 'A..4',\n",
       " 'A.4',\n",
       " 'B.4',\n",
       " 'C.4',\n",
       " 'Person.ID.5',\n",
       " 'Role.5',\n",
       " 'Year.of.Birth.5',\n",
       " 'Country.of.Birth.5',\n",
       " 'Home.Language.5',\n",
       " 'Dept.No..5',\n",
       " 'Faculty.No..5',\n",
       " 'With.PHD.5',\n",
       " 'No..of.Years.in.Uni.at.Time.of.Grant.5',\n",
       " 'Number.of.Successful.Grant.5',\n",
       " 'Number.of.Unsuccessful.Grant.5',\n",
       " 'A..5',\n",
       " 'A.5',\n",
       " 'B.5',\n",
       " 'C.5',\n",
       " 'Person.ID.6',\n",
       " 'Role.6',\n",
       " 'Year.of.Birth.6',\n",
       " 'Country.of.Birth.6',\n",
       " 'Home.Language.6',\n",
       " 'Dept.No..6',\n",
       " 'Faculty.No..6',\n",
       " 'With.PHD.6',\n",
       " 'No..of.Years.in.Uni.at.Time.of.Grant.6',\n",
       " 'Number.of.Successful.Grant.6',\n",
       " 'Number.of.Unsuccessful.Grant.6',\n",
       " 'A..6',\n",
       " 'A.6',\n",
       " 'B.6',\n",
       " 'C.6',\n",
       " 'Person.ID.7',\n",
       " 'Role.7',\n",
       " 'Year.of.Birth.7',\n",
       " 'Country.of.Birth.7',\n",
       " 'Home.Language.7',\n",
       " 'Dept.No..7',\n",
       " 'Faculty.No..7',\n",
       " 'With.PHD.7',\n",
       " 'No..of.Years.in.Uni.at.Time.of.Grant.7',\n",
       " 'Number.of.Successful.Grant.7',\n",
       " 'Number.of.Unsuccessful.Grant.7',\n",
       " 'A..7',\n",
       " 'A.7',\n",
       " 'B.7',\n",
       " 'C.7',\n",
       " 'Person.ID.8',\n",
       " 'Role.8',\n",
       " 'Year.of.Birth.8',\n",
       " 'Country.of.Birth.8',\n",
       " 'Home.Language.8',\n",
       " 'Dept.No..8',\n",
       " 'Faculty.No..8',\n",
       " 'With.PHD.8',\n",
       " 'No..of.Years.in.Uni.at.Time.of.Grant.8',\n",
       " 'Number.of.Successful.Grant.8',\n",
       " 'Number.of.Unsuccessful.Grant.8',\n",
       " 'A..8',\n",
       " 'A.8',\n",
       " 'B.8',\n",
       " 'C.8',\n",
       " 'Person.ID.9',\n",
       " 'Role.9',\n",
       " 'Year.of.Birth.9',\n",
       " 'Country.of.Birth.9',\n",
       " 'Home.Language.9',\n",
       " 'Dept.No..9',\n",
       " 'Faculty.No..9',\n",
       " 'With.PHD.9',\n",
       " 'No..of.Years.in.Uni.at.Time.of.Grant.9',\n",
       " 'Number.of.Successful.Grant.9',\n",
       " 'Number.of.Unsuccessful.Grant.9',\n",
       " 'A..9',\n",
       " 'A.9',\n",
       " 'B.9',\n",
       " 'C.9',\n",
       " 'Person.ID.10',\n",
       " 'Role.10',\n",
       " 'Year.of.Birth.10',\n",
       " 'Country.of.Birth.10',\n",
       " 'Home.Language.10',\n",
       " 'Dept.No..10',\n",
       " 'Faculty.No..10',\n",
       " 'With.PHD.10',\n",
       " 'No..of.Years.in.Uni.at.Time.of.Grant.10',\n",
       " 'Number.of.Successful.Grant.10',\n",
       " 'Number.of.Unsuccessful.Grant.10',\n",
       " 'A..10',\n",
       " 'A.10',\n",
       " 'B.10',\n",
       " 'C.10',\n",
       " 'Person.ID.11',\n",
       " 'Role.11',\n",
       " 'Year.of.Birth.11',\n",
       " 'Country.of.Birth.11',\n",
       " 'Home.Language.11',\n",
       " 'Dept.No..11',\n",
       " 'Faculty.No..11',\n",
       " 'With.PHD.11',\n",
       " 'No..of.Years.in.Uni.at.Time.of.Grant.11',\n",
       " 'Number.of.Successful.Grant.11',\n",
       " 'Number.of.Unsuccessful.Grant.11',\n",
       " 'A..11',\n",
       " 'A.11',\n",
       " 'B.11',\n",
       " 'C.11',\n",
       " 'Person.ID.12',\n",
       " 'Role.12',\n",
       " 'Year.of.Birth.12',\n",
       " 'Country.of.Birth.12',\n",
       " 'Home.Language.12',\n",
       " 'Dept.No..12',\n",
       " 'Faculty.No..12',\n",
       " 'With.PHD.12',\n",
       " 'No..of.Years.in.Uni.at.Time.of.Grant.12',\n",
       " 'Number.of.Successful.Grant.12',\n",
       " 'Number.of.Unsuccessful.Grant.12',\n",
       " 'A..12',\n",
       " 'A.12',\n",
       " 'B.12',\n",
       " 'C.12',\n",
       " 'Person.ID.13',\n",
       " 'Role.13',\n",
       " 'Year.of.Birth.13',\n",
       " 'Country.of.Birth.13',\n",
       " 'Home.Language.13',\n",
       " 'Dept.No..13',\n",
       " 'Faculty.No..13',\n",
       " 'With.PHD.13',\n",
       " 'No..of.Years.in.Uni.at.Time.of.Grant.13',\n",
       " 'Number.of.Successful.Grant.13',\n",
       " 'Number.of.Unsuccessful.Grant.13',\n",
       " 'A..13',\n",
       " 'A.13',\n",
       " 'B.13',\n",
       " 'C.13',\n",
       " 'Person.ID.14',\n",
       " 'Role.14',\n",
       " 'Year.of.Birth.14',\n",
       " 'Country.of.Birth.14',\n",
       " 'Home.Language.14',\n",
       " 'Dept.No..14',\n",
       " 'Faculty.No..14',\n",
       " 'With.PHD.14',\n",
       " 'No..of.Years.in.Uni.at.Time.of.Grant.14',\n",
       " 'Number.of.Successful.Grant.14',\n",
       " 'Number.of.Unsuccessful.Grant.14',\n",
       " 'A..14',\n",
       " 'A.14',\n",
       " 'B.14',\n",
       " 'C.14',\n",
       " 'Person.ID.15',\n",
       " 'Role.15',\n",
       " 'Year.of.Birth.15',\n",
       " 'Country.of.Birth.15',\n",
       " 'Home.Language.15',\n",
       " 'Dept.No..15',\n",
       " 'Faculty.No..15',\n",
       " 'With.PHD.15',\n",
       " 'No..of.Years.in.Uni.at.Time.of.Grant.15',\n",
       " 'Number.of.Successful.Grant.15',\n",
       " 'Number.of.Unsuccessful.Grant.15',\n",
       " 'A..15',\n",
       " 'A.15',\n",
       " 'B.15',\n",
       " 'C.15',\n",
       " 'Unnamed: 251']"
      ]
     },
     "execution_count": 4,
     "metadata": {},
     "output_type": "execute_result"
    }
   ],
   "source": [
    "data.columns.tolist()"
   ]
  },
  {
   "cell_type": "code",
   "execution_count": 5,
   "id": "cc5514d7",
   "metadata": {
    "execution": {
     "iopub.execute_input": "2023-08-20T13:19:00.271391Z",
     "iopub.status.busy": "2023-08-20T13:19:00.270549Z",
     "iopub.status.idle": "2023-08-20T13:19:00.277492Z",
     "shell.execute_reply": "2023-08-20T13:19:00.276762Z"
    },
    "papermill": {
     "duration": 0.034414,
     "end_time": "2023-08-20T13:19:00.280632",
     "exception": false,
     "start_time": "2023-08-20T13:19:00.246218",
     "status": "completed"
    },
    "tags": []
   },
   "outputs": [
    {
     "data": {
      "text/plain": [
       "(8708, 252)"
      ]
     },
     "execution_count": 5,
     "metadata": {},
     "output_type": "execute_result"
    }
   ],
   "source": [
    "data.shape"
   ]
  },
  {
   "cell_type": "code",
   "execution_count": 6,
   "id": "cf1bad05",
   "metadata": {
    "execution": {
     "iopub.execute_input": "2023-08-20T13:19:00.335332Z",
     "iopub.status.busy": "2023-08-20T13:19:00.334777Z",
     "iopub.status.idle": "2023-08-20T13:19:00.345072Z",
     "shell.execute_reply": "2023-08-20T13:19:00.343930Z"
    },
    "papermill": {
     "duration": 0.039329,
     "end_time": "2023-08-20T13:19:00.347667",
     "exception": false,
     "start_time": "2023-08-20T13:19:00.308338",
     "status": "completed"
    },
    "tags": []
   },
   "outputs": [
    {
     "data": {
      "text/plain": [
       "0"
      ]
     },
     "execution_count": 6,
     "metadata": {},
     "output_type": "execute_result"
    }
   ],
   "source": [
    "data['A.14'].nunique()"
   ]
  },
  {
   "cell_type": "code",
   "execution_count": 7,
   "id": "1d74f418",
   "metadata": {
    "execution": {
     "iopub.execute_input": "2023-08-20T13:19:00.398327Z",
     "iopub.status.busy": "2023-08-20T13:19:00.397745Z",
     "iopub.status.idle": "2023-08-20T13:19:00.407675Z",
     "shell.execute_reply": "2023-08-20T13:19:00.406818Z"
    },
    "papermill": {
     "duration": 0.034499,
     "end_time": "2023-08-20T13:19:00.410008",
     "exception": false,
     "start_time": "2023-08-20T13:19:00.375509",
     "status": "completed"
    },
    "tags": []
   },
   "outputs": [
    {
     "data": {
      "text/plain": [
       "Grant.Application.ID                       3\n",
       "Grant.Status                               1\n",
       "Sponsor.Code                             29A\n",
       "Grant.Category.Code                      10B\n",
       "Contract.Value.Band...see.note.A          A \n",
       "Start.date                          14/11/05\n",
       "Name: 2, dtype: object"
      ]
     },
     "execution_count": 7,
     "metadata": {},
     "output_type": "execute_result"
    }
   ],
   "source": [
    "data.iloc[2,:6]"
   ]
  },
  {
   "cell_type": "code",
   "execution_count": 8,
   "id": "cddd7bba",
   "metadata": {
    "execution": {
     "iopub.execute_input": "2023-08-20T13:19:00.452650Z",
     "iopub.status.busy": "2023-08-20T13:19:00.451823Z",
     "iopub.status.idle": "2023-08-20T13:19:00.465996Z",
     "shell.execute_reply": "2023-08-20T13:19:00.465183Z"
    },
    "papermill": {
     "duration": 0.038609,
     "end_time": "2023-08-20T13:19:00.468736",
     "exception": false,
     "start_time": "2023-08-20T13:19:00.430127",
     "status": "completed"
    },
    "tags": []
   },
   "outputs": [
    {
     "data": {
      "text/plain": [
       "4D      2006\n",
       "2B      1741\n",
       "21A      937\n",
       "34B      228\n",
       "24D      171\n",
       "        ... \n",
       "152D       1\n",
       "171C       1\n",
       "201A       1\n",
       "289A       1\n",
       "329A       1\n",
       "Name: Sponsor.Code, Length: 297, dtype: int64"
      ]
     },
     "execution_count": 8,
     "metadata": {},
     "output_type": "execute_result"
    }
   ],
   "source": [
    "data['Sponsor.Code'].value_counts()"
   ]
  },
  {
   "cell_type": "code",
   "execution_count": 9,
   "id": "33d2a4b4",
   "metadata": {
    "execution": {
     "iopub.execute_input": "2023-08-20T13:19:00.511798Z",
     "iopub.status.busy": "2023-08-20T13:19:00.510929Z",
     "iopub.status.idle": "2023-08-20T13:19:00.535061Z",
     "shell.execute_reply": "2023-08-20T13:19:00.534047Z"
    },
    "papermill": {
     "duration": 0.047987,
     "end_time": "2023-08-20T13:19:00.537339",
     "exception": false,
     "start_time": "2023-08-20T13:19:00.489352",
     "status": "completed"
    },
    "tags": []
   },
   "outputs": [
    {
     "data": {
      "text/html": [
       "<div>\n",
       "<style scoped>\n",
       "    .dataframe tbody tr th:only-of-type {\n",
       "        vertical-align: middle;\n",
       "    }\n",
       "\n",
       "    .dataframe tbody tr th {\n",
       "        vertical-align: top;\n",
       "    }\n",
       "\n",
       "    .dataframe thead th {\n",
       "        text-align: right;\n",
       "    }\n",
       "</style>\n",
       "<table border=\"1\" class=\"dataframe\">\n",
       "  <thead>\n",
       "    <tr style=\"text-align: right;\">\n",
       "      <th></th>\n",
       "      <th>Person.ID.1</th>\n",
       "      <th>Person.ID.3</th>\n",
       "    </tr>\n",
       "  </thead>\n",
       "  <tbody>\n",
       "    <tr>\n",
       "      <th>2</th>\n",
       "      <td>5967.0</td>\n",
       "      <td>79652.0</td>\n",
       "    </tr>\n",
       "    <tr>\n",
       "      <th>6</th>\n",
       "      <td>74292.0</td>\n",
       "      <td>79742.0</td>\n",
       "    </tr>\n",
       "    <tr>\n",
       "      <th>14</th>\n",
       "      <td>9067.0</td>\n",
       "      <td>80137.0</td>\n",
       "    </tr>\n",
       "    <tr>\n",
       "      <th>29</th>\n",
       "      <td>3067.0</td>\n",
       "      <td>15987.0</td>\n",
       "    </tr>\n",
       "    <tr>\n",
       "      <th>32</th>\n",
       "      <td>69262.0</td>\n",
       "      <td>131432.0</td>\n",
       "    </tr>\n",
       "    <tr>\n",
       "      <th>...</th>\n",
       "      <td>...</td>\n",
       "      <td>...</td>\n",
       "    </tr>\n",
       "    <tr>\n",
       "      <th>8672</th>\n",
       "      <td>636677.0</td>\n",
       "      <td>578662.0</td>\n",
       "    </tr>\n",
       "    <tr>\n",
       "      <th>8678</th>\n",
       "      <td>907227.0</td>\n",
       "      <td>895287.0</td>\n",
       "    </tr>\n",
       "    <tr>\n",
       "      <th>8681</th>\n",
       "      <td>69812.0</td>\n",
       "      <td>66887.0</td>\n",
       "    </tr>\n",
       "    <tr>\n",
       "      <th>8682</th>\n",
       "      <td>66637.0</td>\n",
       "      <td>79032.0</td>\n",
       "    </tr>\n",
       "    <tr>\n",
       "      <th>8688</th>\n",
       "      <td>72532.0</td>\n",
       "      <td>64867.0</td>\n",
       "    </tr>\n",
       "  </tbody>\n",
       "</table>\n",
       "<p>1128 rows × 2 columns</p>\n",
       "</div>"
      ],
      "text/plain": [
       "      Person.ID.1  Person.ID.3\n",
       "2          5967.0      79652.0\n",
       "6         74292.0      79742.0\n",
       "14         9067.0      80137.0\n",
       "29         3067.0      15987.0\n",
       "32        69262.0     131432.0\n",
       "...           ...          ...\n",
       "8672     636677.0     578662.0\n",
       "8678     907227.0     895287.0\n",
       "8681      69812.0      66887.0\n",
       "8682      66637.0      79032.0\n",
       "8688      72532.0      64867.0\n",
       "\n",
       "[1128 rows x 2 columns]"
      ]
     },
     "execution_count": 9,
     "metadata": {},
     "output_type": "execute_result"
    }
   ],
   "source": [
    "data[(np.isnan(data['Person.ID.1'])==False) & (np.isnan(data['Person.ID.3'])==False)][['Person.ID.1','Person.ID.3']]"
   ]
  },
  {
   "cell_type": "code",
   "execution_count": 10,
   "id": "a313e059",
   "metadata": {
    "execution": {
     "iopub.execute_input": "2023-08-20T13:19:00.582844Z",
     "iopub.status.busy": "2023-08-20T13:19:00.581990Z",
     "iopub.status.idle": "2023-08-20T13:19:00.589127Z",
     "shell.execute_reply": "2023-08-20T13:19:00.588170Z"
    },
    "papermill": {
     "duration": 0.033531,
     "end_time": "2023-08-20T13:19:00.591363",
     "exception": false,
     "start_time": "2023-08-20T13:19:00.557832",
     "status": "completed"
    },
    "tags": []
   },
   "outputs": [
    {
     "data": {
      "text/plain": [
       "dtype('float64')"
      ]
     },
     "execution_count": 10,
     "metadata": {},
     "output_type": "execute_result"
    }
   ],
   "source": [
    "data['Person.ID.1'].dtypes"
   ]
  },
  {
   "cell_type": "code",
   "execution_count": 11,
   "id": "776b9853",
   "metadata": {
    "execution": {
     "iopub.execute_input": "2023-08-20T13:19:00.634848Z",
     "iopub.status.busy": "2023-08-20T13:19:00.634007Z",
     "iopub.status.idle": "2023-08-20T13:19:00.645257Z",
     "shell.execute_reply": "2023-08-20T13:19:00.644262Z"
    },
    "papermill": {
     "duration": 0.035653,
     "end_time": "2023-08-20T13:19:00.647437",
     "exception": false,
     "start_time": "2023-08-20T13:19:00.611784",
     "status": "completed"
    },
    "tags": []
   },
   "outputs": [
    {
     "data": {
      "text/plain": [
       "1797.0      76\n",
       "67842.0     42\n",
       "74162.0     38\n",
       "69812.0     33\n",
       "85642.0     30\n",
       "            ..\n",
       "122022.0     1\n",
       "360207.0     1\n",
       "335382.0     1\n",
       "633697.0     1\n",
       "53587.0      1\n",
       "Name: Person.ID.1, Length: 2301, dtype: int64"
      ]
     },
     "execution_count": 11,
     "metadata": {},
     "output_type": "execute_result"
    }
   ],
   "source": [
    "data['Person.ID.1'].value_counts()"
   ]
  },
  {
   "cell_type": "markdown",
   "id": "d47c3ae4",
   "metadata": {
    "papermill": {
     "duration": 0.020091,
     "end_time": "2023-08-20T13:19:00.688395",
     "exception": false,
     "start_time": "2023-08-20T13:19:00.668304",
     "status": "completed"
    },
    "tags": []
   },
   "source": [
    "**Fature Engineering**"
   ]
  },
  {
   "cell_type": "code",
   "execution_count": 12,
   "id": "b993fb6f",
   "metadata": {
    "execution": {
     "iopub.execute_input": "2023-08-20T13:19:00.731677Z",
     "iopub.status.busy": "2023-08-20T13:19:00.730608Z",
     "iopub.status.idle": "2023-08-20T13:19:00.743745Z",
     "shell.execute_reply": "2023-08-20T13:19:00.742774Z"
    },
    "papermill": {
     "duration": 0.036978,
     "end_time": "2023-08-20T13:19:00.745892",
     "exception": false,
     "start_time": "2023-08-20T13:19:00.708914",
     "status": "completed"
    },
    "tags": []
   },
   "outputs": [
    {
     "data": {
      "text/plain": [
       "[3,\n",
       " 1,\n",
       " '29A',\n",
       " '10B',\n",
       " 'A ',\n",
       " '14/11/05',\n",
       " 321004.0,\n",
       " 60.0,\n",
       " 321216.0,\n",
       " 40.0,\n",
       " 0.0,\n",
       " 0.0,\n",
       " 0.0,\n",
       " 0.0,\n",
       " 0.0,\n",
       " 0.0,\n",
       " 730105.0,\n",
       " 60.0,\n",
       " 730207.0,\n",
       " 40.0,\n",
       " 0.0,\n",
       " 0.0,\n",
       " 0.0,\n",
       " 0.0,\n",
       " 0.0,\n",
       " 0.0,\n",
       " 5967.0,\n",
       " 'CHIEF_INVESTIGATOR',\n",
       " 1955.0,\n",
       " 'Australia',\n",
       " nan,\n",
       " 2923.0,\n",
       " 25.0,\n",
       " 'Yes ',\n",
       " '>5 to 10',\n",
       " 0.0,\n",
       " 0.0,\n",
       " 0.0,\n",
       " 3.0,\n",
       " 5.0,\n",
       " 2.0,\n",
       " 27307.0,\n",
       " 'CHIEF_INVESTIGATOR',\n",
       " 1950.0,\n",
       " 'Australia',\n",
       " nan,\n",
       " 2923.0,\n",
       " 25.0,\n",
       " nan,\n",
       " 'Less than 0',\n",
       " 0.0,\n",
       " 0.0,\n",
       " 0.0,\n",
       " 0.0,\n",
       " 0.0,\n",
       " 0.0,\n",
       " 79652.0,\n",
       " 'CHIEF_INVESTIGATOR',\n",
       " 1950.0,\n",
       " 'Asia Pacific',\n",
       " nan,\n",
       " 2498.0,\n",
       " 25.0,\n",
       " 'Yes ',\n",
       " 'more than 15',\n",
       " 0.0,\n",
       " 0.0,\n",
       " 1.0,\n",
       " 3.0,\n",
       " 3.0,\n",
       " 3.0,\n",
       " 11667.0,\n",
       " 'DELEGATED_RESEARCHER',\n",
       " 1950.0,\n",
       " 'Australia',\n",
       " nan,\n",
       " 2548.0,\n",
       " 25.0,\n",
       " nan,\n",
       " 'more than 15',\n",
       " 0.0,\n",
       " 0.0,\n",
       " 6.0,\n",
       " 14.0,\n",
       " 12.0,\n",
       " 2.0,\n",
       " nan,\n",
       " 'EXT_CHIEF_INVESTIGATOR',\n",
       " nan,\n",
       " nan,\n",
       " nan,\n",
       " nan,\n",
       " nan,\n",
       " nan,\n",
       " nan,\n",
       " nan,\n",
       " nan,\n",
       " nan,\n",
       " nan,\n",
       " nan,\n",
       " nan,\n",
       " nan,\n",
       " 'EXT_CHIEF_INVESTIGATOR',\n",
       " nan,\n",
       " nan,\n",
       " nan,\n",
       " nan,\n",
       " nan,\n",
       " nan,\n",
       " nan,\n",
       " nan,\n",
       " nan,\n",
       " nan,\n",
       " nan,\n",
       " nan,\n",
       " nan,\n",
       " nan,\n",
       " 'EXT_CHIEF_INVESTIGATOR',\n",
       " nan,\n",
       " nan,\n",
       " nan,\n",
       " nan,\n",
       " nan,\n",
       " nan,\n",
       " nan,\n",
       " nan,\n",
       " nan,\n",
       " nan,\n",
       " nan,\n",
       " nan,\n",
       " nan,\n",
       " nan,\n",
       " nan,\n",
       " nan,\n",
       " nan,\n",
       " nan,\n",
       " nan,\n",
       " nan,\n",
       " nan,\n",
       " nan,\n",
       " nan,\n",
       " nan,\n",
       " nan,\n",
       " nan,\n",
       " nan,\n",
       " nan,\n",
       " nan,\n",
       " nan,\n",
       " nan,\n",
       " nan,\n",
       " nan,\n",
       " nan,\n",
       " nan,\n",
       " nan,\n",
       " nan,\n",
       " nan,\n",
       " nan,\n",
       " nan,\n",
       " nan,\n",
       " nan,\n",
       " nan,\n",
       " nan,\n",
       " nan,\n",
       " nan,\n",
       " nan,\n",
       " nan,\n",
       " nan,\n",
       " nan,\n",
       " nan,\n",
       " nan,\n",
       " nan,\n",
       " nan,\n",
       " nan,\n",
       " nan,\n",
       " nan,\n",
       " nan,\n",
       " nan,\n",
       " nan,\n",
       " nan,\n",
       " nan,\n",
       " nan,\n",
       " nan,\n",
       " nan,\n",
       " nan,\n",
       " nan,\n",
       " nan,\n",
       " nan,\n",
       " nan,\n",
       " nan,\n",
       " nan,\n",
       " nan,\n",
       " nan,\n",
       " nan,\n",
       " nan,\n",
       " nan,\n",
       " nan,\n",
       " nan,\n",
       " nan,\n",
       " nan,\n",
       " nan,\n",
       " nan,\n",
       " nan,\n",
       " nan,\n",
       " nan,\n",
       " nan,\n",
       " nan,\n",
       " nan,\n",
       " nan,\n",
       " nan,\n",
       " nan,\n",
       " nan,\n",
       " nan,\n",
       " nan,\n",
       " nan,\n",
       " nan,\n",
       " nan,\n",
       " nan,\n",
       " nan,\n",
       " nan,\n",
       " nan,\n",
       " nan,\n",
       " nan,\n",
       " nan,\n",
       " nan,\n",
       " nan,\n",
       " nan,\n",
       " nan,\n",
       " nan,\n",
       " nan,\n",
       " nan,\n",
       " nan,\n",
       " nan,\n",
       " nan,\n",
       " nan,\n",
       " nan,\n",
       " nan,\n",
       " nan,\n",
       " nan,\n",
       " nan,\n",
       " nan,\n",
       " nan,\n",
       " nan,\n",
       " nan,\n",
       " nan,\n",
       " nan,\n",
       " nan,\n",
       " nan,\n",
       " nan,\n",
       " nan,\n",
       " nan,\n",
       " nan,\n",
       " nan]"
      ]
     },
     "execution_count": 12,
     "metadata": {},
     "output_type": "execute_result"
    }
   ],
   "source": [
    "data.iloc[2,:].tolist()"
   ]
  },
  {
   "cell_type": "code",
   "execution_count": 13,
   "id": "77f038ad",
   "metadata": {
    "execution": {
     "iopub.execute_input": "2023-08-20T13:19:00.789774Z",
     "iopub.status.busy": "2023-08-20T13:19:00.788991Z",
     "iopub.status.idle": "2023-08-20T13:19:00.802490Z",
     "shell.execute_reply": "2023-08-20T13:19:00.801517Z"
    },
    "papermill": {
     "duration": 0.038053,
     "end_time": "2023-08-20T13:19:00.804645",
     "exception": false,
     "start_time": "2023-08-20T13:19:00.766592",
     "status": "completed"
    },
    "tags": []
   },
   "outputs": [
    {
     "data": {
      "text/plain": [
       "0       0.2\n",
       "1       0.2\n",
       "2       0.2\n",
       "3       0.2\n",
       "4       0.2\n",
       "       ... \n",
       "8703    0.2\n",
       "8704    0.2\n",
       "8705    NaN\n",
       "8706    0.2\n",
       "8707    0.2\n",
       "Length: 8708, dtype: float64"
      ]
     },
     "execution_count": 13,
     "metadata": {},
     "output_type": "execute_result"
    }
   ],
   "source": [
    "rfcd_pct_cols = ['RFCD.Percentage.1','RFCD.Percentage.2','RFCD.Percentage.3','RFCD.Percentage.4','RFCD.Percentage.5']\n",
    "rfcd_pct_mean = sum([data[rfcd]*0.01 for rfcd in rfcd_pct_cols])/5.0\n",
    "rfcd_pct_mean"
   ]
  },
  {
   "cell_type": "code",
   "execution_count": 14,
   "id": "40f0a755",
   "metadata": {
    "execution": {
     "iopub.execute_input": "2023-08-20T13:19:00.849402Z",
     "iopub.status.busy": "2023-08-20T13:19:00.848617Z",
     "iopub.status.idle": "2023-08-20T13:19:00.862455Z",
     "shell.execute_reply": "2023-08-20T13:19:00.861253Z"
    },
    "papermill": {
     "duration": 0.038841,
     "end_time": "2023-08-20T13:19:00.864834",
     "exception": false,
     "start_time": "2023-08-20T13:19:00.825993",
     "status": "completed"
    },
    "tags": []
   },
   "outputs": [
    {
     "data": {
      "text/plain": [
       "0       0.2\n",
       "1       0.2\n",
       "2       0.2\n",
       "3       0.2\n",
       "4       0.2\n",
       "       ... \n",
       "8703    0.2\n",
       "8704    0.2\n",
       "8705    NaN\n",
       "8706    0.2\n",
       "8707    0.2\n",
       "Length: 8708, dtype: float64"
      ]
     },
     "execution_count": 14,
     "metadata": {},
     "output_type": "execute_result"
    }
   ],
   "source": [
    "seo_pct_cols = ['SEO.Percentage.1','SEO.Percentage.2','SEO.Percentage.3','SEO.Percentage.4','SEO.Percentage.5']\n",
    "seo_pct_mean = sum([data[seo]*0.01 for seo in seo_pct_cols])/5.0\n",
    "seo_pct_mean"
   ]
  },
  {
   "cell_type": "code",
   "execution_count": 15,
   "id": "0ea7ac40",
   "metadata": {
    "execution": {
     "iopub.execute_input": "2023-08-20T13:19:00.909558Z",
     "iopub.status.busy": "2023-08-20T13:19:00.909143Z",
     "iopub.status.idle": "2023-08-20T13:19:00.919338Z",
     "shell.execute_reply": "2023-08-20T13:19:00.918305Z"
    },
    "papermill": {
     "duration": 0.034842,
     "end_time": "2023-08-20T13:19:00.921625",
     "exception": false,
     "start_time": "2023-08-20T13:19:00.886783",
     "status": "completed"
    },
    "tags": []
   },
   "outputs": [
    {
     "data": {
      "text/plain": [
       "23      0.2\n",
       "25      NaN\n",
       "26      NaN\n",
       "50      0.2\n",
       "57      NaN\n",
       "       ... \n",
       "8655    NaN\n",
       "8658    0.2\n",
       "8697    NaN\n",
       "8702    NaN\n",
       "8705    NaN\n",
       "Length: 1080, dtype: float64"
      ]
     },
     "execution_count": 15,
     "metadata": {},
     "output_type": "execute_result"
    }
   ],
   "source": [
    "seo_pct_mean[rfcd_pct_mean!=seo_pct_mean] # Hence They are not equal, So can't ignore"
   ]
  },
  {
   "cell_type": "code",
   "execution_count": 16,
   "id": "76865ef4",
   "metadata": {
    "execution": {
     "iopub.execute_input": "2023-08-20T13:19:00.967234Z",
     "iopub.status.busy": "2023-08-20T13:19:00.966042Z",
     "iopub.status.idle": "2023-08-20T13:19:00.978409Z",
     "shell.execute_reply": "2023-08-20T13:19:00.977250Z"
    },
    "papermill": {
     "duration": 0.037842,
     "end_time": "2023-08-20T13:19:00.981056",
     "exception": false,
     "start_time": "2023-08-20T13:19:00.943214",
     "status": "completed"
    },
    "tags": []
   },
   "outputs": [
    {
     "name": "stderr",
     "output_type": "stream",
     "text": [
      "/tmp/ipykernel_20/267228672.py:3: RuntimeWarning: All-NaN axis encountered\n",
      "  max_year_birth = np.nanmax(data[year_birth_cols],axis=1)\n"
     ]
    },
    {
     "data": {
      "text/plain": [
       "array([1965., 1960., 1955., ..., 1950., 1970., 1960.])"
      ]
     },
     "execution_count": 16,
     "metadata": {},
     "output_type": "execute_result"
    }
   ],
   "source": [
    "year_birth_cols = ['Year.of.Birth.'+str(i) for i in range(1,16)]\n",
    "\n",
    "max_year_birth = np.nanmax(data[year_birth_cols],axis=1)\n",
    "\n",
    "max_year_birth"
   ]
  },
  {
   "cell_type": "code",
   "execution_count": 17,
   "id": "ec96ed91",
   "metadata": {
    "execution": {
     "iopub.execute_input": "2023-08-20T13:19:01.029509Z",
     "iopub.status.busy": "2023-08-20T13:19:01.028700Z",
     "iopub.status.idle": "2023-08-20T13:19:01.035331Z",
     "shell.execute_reply": "2023-08-20T13:19:01.034510Z"
    },
    "papermill": {
     "duration": 0.03423,
     "end_time": "2023-08-20T13:19:01.037455",
     "exception": false,
     "start_time": "2023-08-20T13:19:01.003225",
     "status": "completed"
    },
    "tags": []
   },
   "outputs": [
    {
     "data": {
      "text/plain": [
       "8708"
      ]
     },
     "execution_count": 17,
     "metadata": {},
     "output_type": "execute_result"
    }
   ],
   "source": [
    "len(max_year_birth)"
   ]
  },
  {
   "cell_type": "code",
   "execution_count": 18,
   "id": "304f1f32",
   "metadata": {
    "execution": {
     "iopub.execute_input": "2023-08-20T13:19:01.083259Z",
     "iopub.status.busy": "2023-08-20T13:19:01.082193Z",
     "iopub.status.idle": "2023-08-20T13:19:01.089270Z",
     "shell.execute_reply": "2023-08-20T13:19:01.088349Z"
    },
    "papermill": {
     "duration": 0.031992,
     "end_time": "2023-08-20T13:19:01.091361",
     "exception": false,
     "start_time": "2023-08-20T13:19:01.059369",
     "status": "completed"
    },
    "tags": []
   },
   "outputs": [
    {
     "data": {
      "text/plain": [
       "dtype('O')"
      ]
     },
     "execution_count": 18,
     "metadata": {},
     "output_type": "execute_result"
    }
   ],
   "source": [
    "data['No..of.Years.in.Uni.at.Time.of.Grant.1'].dtypes"
   ]
  },
  {
   "cell_type": "code",
   "execution_count": 19,
   "id": "9342ca4b",
   "metadata": {
    "execution": {
     "iopub.execute_input": "2023-08-20T13:19:01.137346Z",
     "iopub.status.busy": "2023-08-20T13:19:01.136697Z",
     "iopub.status.idle": "2023-08-20T13:19:01.146028Z",
     "shell.execute_reply": "2023-08-20T13:19:01.144932Z"
    },
    "papermill": {
     "duration": 0.034974,
     "end_time": "2023-08-20T13:19:01.148195",
     "exception": false,
     "start_time": "2023-08-20T13:19:01.113221",
     "status": "completed"
    },
    "tags": []
   },
   "outputs": [
    {
     "data": {
      "text/plain": [
       ">=0 to 5        2830\n",
       ">5 to 10        1603\n",
       "Less than 0     1030\n",
       ">10 to 15        917\n",
       "more than 15     847\n",
       "Name: No..of.Years.in.Uni.at.Time.of.Grant.1, dtype: int64"
      ]
     },
     "execution_count": 19,
     "metadata": {},
     "output_type": "execute_result"
    }
   ],
   "source": [
    "data['No..of.Years.in.Uni.at.Time.of.Grant.1'].value_counts()"
   ]
  },
  {
   "cell_type": "code",
   "execution_count": 20,
   "id": "a82d42a3",
   "metadata": {
    "execution": {
     "iopub.execute_input": "2023-08-20T13:19:01.194401Z",
     "iopub.status.busy": "2023-08-20T13:19:01.194017Z",
     "iopub.status.idle": "2023-08-20T13:19:01.202673Z",
     "shell.execute_reply": "2023-08-20T13:19:01.201710Z"
    },
    "papermill": {
     "duration": 0.034526,
     "end_time": "2023-08-20T13:19:01.204905",
     "exception": false,
     "start_time": "2023-08-20T13:19:01.170379",
     "status": "completed"
    },
    "tags": []
   },
   "outputs": [
    {
     "data": {
      "text/plain": [
       ">=0 to 5        312\n",
       "more than 15    198\n",
       ">5 to 10        171\n",
       "Less than 0     132\n",
       ">10 to 15       126\n",
       "Name: No..of.Years.in.Uni.at.Time.of.Grant.3, dtype: int64"
      ]
     },
     "execution_count": 20,
     "metadata": {},
     "output_type": "execute_result"
    }
   ],
   "source": [
    "data['No..of.Years.in.Uni.at.Time.of.Grant.3'].value_counts()"
   ]
  },
  {
   "cell_type": "code",
   "execution_count": 21,
   "id": "d87d5795",
   "metadata": {
    "execution": {
     "iopub.execute_input": "2023-08-20T13:19:01.250034Z",
     "iopub.status.busy": "2023-08-20T13:19:01.249641Z",
     "iopub.status.idle": "2023-08-20T13:19:01.256771Z",
     "shell.execute_reply": "2023-08-20T13:19:01.255715Z"
    },
    "papermill": {
     "duration": 0.032058,
     "end_time": "2023-08-20T13:19:01.258820",
     "exception": false,
     "start_time": "2023-08-20T13:19:01.226762",
     "status": "completed"
    },
    "tags": []
   },
   "outputs": [
    {
     "data": {
      "text/plain": [
       "['No..of.Years.in.Uni.at.Time.of.Grant.1',\n",
       " 'No..of.Years.in.Uni.at.Time.of.Grant.2',\n",
       " 'No..of.Years.in.Uni.at.Time.of.Grant.3',\n",
       " 'No..of.Years.in.Uni.at.Time.of.Grant.4',\n",
       " 'No..of.Years.in.Uni.at.Time.of.Grant.5',\n",
       " 'No..of.Years.in.Uni.at.Time.of.Grant.6',\n",
       " 'No..of.Years.in.Uni.at.Time.of.Grant.7',\n",
       " 'No..of.Years.in.Uni.at.Time.of.Grant.8',\n",
       " 'No..of.Years.in.Uni.at.Time.of.Grant.9',\n",
       " 'No..of.Years.in.Uni.at.Time.of.Grant.10',\n",
       " 'No..of.Years.in.Uni.at.Time.of.Grant.11',\n",
       " 'No..of.Years.in.Uni.at.Time.of.Grant.12',\n",
       " 'No..of.Years.in.Uni.at.Time.of.Grant.13',\n",
       " 'No..of.Years.in.Uni.at.Time.of.Grant.14',\n",
       " 'No..of.Years.in.Uni.at.Time.of.Grant.15']"
      ]
     },
     "execution_count": 21,
     "metadata": {},
     "output_type": "execute_result"
    }
   ],
   "source": [
    "uniyear_cols = ['No..of.Years.in.Uni.at.Time.of.Grant.'+str(i) for i in range(1,16)]\n",
    "uniyear_cols"
   ]
  },
  {
   "cell_type": "code",
   "execution_count": 22,
   "id": "3d5eee6a",
   "metadata": {
    "execution": {
     "iopub.execute_input": "2023-08-20T13:19:01.305585Z",
     "iopub.status.busy": "2023-08-20T13:19:01.304572Z",
     "iopub.status.idle": "2023-08-20T13:19:01.330234Z",
     "shell.execute_reply": "2023-08-20T13:19:01.329385Z"
    },
    "papermill": {
     "duration": 0.051475,
     "end_time": "2023-08-20T13:19:01.332270",
     "exception": false,
     "start_time": "2023-08-20T13:19:01.280795",
     "status": "completed"
    },
    "tags": []
   },
   "outputs": [
    {
     "data": {
      "text/html": [
       "<div>\n",
       "<style scoped>\n",
       "    .dataframe tbody tr th:only-of-type {\n",
       "        vertical-align: middle;\n",
       "    }\n",
       "\n",
       "    .dataframe tbody tr th {\n",
       "        vertical-align: top;\n",
       "    }\n",
       "\n",
       "    .dataframe thead th {\n",
       "        text-align: right;\n",
       "    }\n",
       "</style>\n",
       "<table border=\"1\" class=\"dataframe\">\n",
       "  <thead>\n",
       "    <tr style=\"text-align: right;\">\n",
       "      <th></th>\n",
       "      <th>No..of.Years.in.Uni.at.Time.of.Grant.1</th>\n",
       "      <th>No..of.Years.in.Uni.at.Time.of.Grant.2</th>\n",
       "      <th>No..of.Years.in.Uni.at.Time.of.Grant.3</th>\n",
       "      <th>No..of.Years.in.Uni.at.Time.of.Grant.4</th>\n",
       "      <th>No..of.Years.in.Uni.at.Time.of.Grant.5</th>\n",
       "      <th>No..of.Years.in.Uni.at.Time.of.Grant.6</th>\n",
       "      <th>No..of.Years.in.Uni.at.Time.of.Grant.7</th>\n",
       "      <th>No..of.Years.in.Uni.at.Time.of.Grant.8</th>\n",
       "      <th>No..of.Years.in.Uni.at.Time.of.Grant.9</th>\n",
       "      <th>No..of.Years.in.Uni.at.Time.of.Grant.10</th>\n",
       "      <th>No..of.Years.in.Uni.at.Time.of.Grant.11</th>\n",
       "      <th>No..of.Years.in.Uni.at.Time.of.Grant.12</th>\n",
       "      <th>No..of.Years.in.Uni.at.Time.of.Grant.13</th>\n",
       "      <th>No..of.Years.in.Uni.at.Time.of.Grant.14</th>\n",
       "      <th>No..of.Years.in.Uni.at.Time.of.Grant.15</th>\n",
       "    </tr>\n",
       "  </thead>\n",
       "  <tbody>\n",
       "    <tr>\n",
       "      <th>0</th>\n",
       "      <td>Less than 0</td>\n",
       "      <td>NaN</td>\n",
       "      <td>NaN</td>\n",
       "      <td>NaN</td>\n",
       "      <td>NaN</td>\n",
       "      <td>NaN</td>\n",
       "      <td>NaN</td>\n",
       "      <td>NaN</td>\n",
       "      <td>NaN</td>\n",
       "      <td>NaN</td>\n",
       "      <td>NaN</td>\n",
       "      <td>NaN</td>\n",
       "      <td>NaN</td>\n",
       "      <td>NaN</td>\n",
       "      <td>NaN</td>\n",
       "    </tr>\n",
       "    <tr>\n",
       "      <th>1</th>\n",
       "      <td>more than 15</td>\n",
       "      <td>NaN</td>\n",
       "      <td>NaN</td>\n",
       "      <td>NaN</td>\n",
       "      <td>NaN</td>\n",
       "      <td>NaN</td>\n",
       "      <td>NaN</td>\n",
       "      <td>NaN</td>\n",
       "      <td>NaN</td>\n",
       "      <td>NaN</td>\n",
       "      <td>NaN</td>\n",
       "      <td>NaN</td>\n",
       "      <td>NaN</td>\n",
       "      <td>NaN</td>\n",
       "      <td>NaN</td>\n",
       "    </tr>\n",
       "    <tr>\n",
       "      <th>2</th>\n",
       "      <td>&gt;5 to 10</td>\n",
       "      <td>Less than 0</td>\n",
       "      <td>more than 15</td>\n",
       "      <td>more than 15</td>\n",
       "      <td>NaN</td>\n",
       "      <td>NaN</td>\n",
       "      <td>NaN</td>\n",
       "      <td>NaN</td>\n",
       "      <td>NaN</td>\n",
       "      <td>NaN</td>\n",
       "      <td>NaN</td>\n",
       "      <td>NaN</td>\n",
       "      <td>NaN</td>\n",
       "      <td>NaN</td>\n",
       "      <td>NaN</td>\n",
       "    </tr>\n",
       "    <tr>\n",
       "      <th>3</th>\n",
       "      <td>&gt;5 to 10</td>\n",
       "      <td>&gt;=0 to 5</td>\n",
       "      <td>NaN</td>\n",
       "      <td>NaN</td>\n",
       "      <td>NaN</td>\n",
       "      <td>NaN</td>\n",
       "      <td>NaN</td>\n",
       "      <td>NaN</td>\n",
       "      <td>NaN</td>\n",
       "      <td>NaN</td>\n",
       "      <td>NaN</td>\n",
       "      <td>NaN</td>\n",
       "      <td>NaN</td>\n",
       "      <td>NaN</td>\n",
       "      <td>NaN</td>\n",
       "    </tr>\n",
       "    <tr>\n",
       "      <th>4</th>\n",
       "      <td>&gt;5 to 10</td>\n",
       "      <td>NaN</td>\n",
       "      <td>NaN</td>\n",
       "      <td>NaN</td>\n",
       "      <td>NaN</td>\n",
       "      <td>NaN</td>\n",
       "      <td>NaN</td>\n",
       "      <td>NaN</td>\n",
       "      <td>NaN</td>\n",
       "      <td>NaN</td>\n",
       "      <td>NaN</td>\n",
       "      <td>NaN</td>\n",
       "      <td>NaN</td>\n",
       "      <td>NaN</td>\n",
       "      <td>NaN</td>\n",
       "    </tr>\n",
       "    <tr>\n",
       "      <th>...</th>\n",
       "      <td>...</td>\n",
       "      <td>...</td>\n",
       "      <td>...</td>\n",
       "      <td>...</td>\n",
       "      <td>...</td>\n",
       "      <td>...</td>\n",
       "      <td>...</td>\n",
       "      <td>...</td>\n",
       "      <td>...</td>\n",
       "      <td>...</td>\n",
       "      <td>...</td>\n",
       "      <td>...</td>\n",
       "      <td>...</td>\n",
       "      <td>...</td>\n",
       "      <td>...</td>\n",
       "    </tr>\n",
       "    <tr>\n",
       "      <th>8703</th>\n",
       "      <td>&gt;5 to 10</td>\n",
       "      <td>NaN</td>\n",
       "      <td>NaN</td>\n",
       "      <td>NaN</td>\n",
       "      <td>NaN</td>\n",
       "      <td>NaN</td>\n",
       "      <td>NaN</td>\n",
       "      <td>NaN</td>\n",
       "      <td>NaN</td>\n",
       "      <td>NaN</td>\n",
       "      <td>NaN</td>\n",
       "      <td>NaN</td>\n",
       "      <td>NaN</td>\n",
       "      <td>NaN</td>\n",
       "      <td>NaN</td>\n",
       "    </tr>\n",
       "    <tr>\n",
       "      <th>8704</th>\n",
       "      <td>&gt;5 to 10</td>\n",
       "      <td>&gt;=0 to 5</td>\n",
       "      <td>NaN</td>\n",
       "      <td>NaN</td>\n",
       "      <td>NaN</td>\n",
       "      <td>NaN</td>\n",
       "      <td>NaN</td>\n",
       "      <td>NaN</td>\n",
       "      <td>NaN</td>\n",
       "      <td>NaN</td>\n",
       "      <td>NaN</td>\n",
       "      <td>NaN</td>\n",
       "      <td>NaN</td>\n",
       "      <td>NaN</td>\n",
       "      <td>NaN</td>\n",
       "    </tr>\n",
       "    <tr>\n",
       "      <th>8705</th>\n",
       "      <td>more than 15</td>\n",
       "      <td>NaN</td>\n",
       "      <td>NaN</td>\n",
       "      <td>NaN</td>\n",
       "      <td>NaN</td>\n",
       "      <td>NaN</td>\n",
       "      <td>NaN</td>\n",
       "      <td>NaN</td>\n",
       "      <td>NaN</td>\n",
       "      <td>NaN</td>\n",
       "      <td>NaN</td>\n",
       "      <td>NaN</td>\n",
       "      <td>NaN</td>\n",
       "      <td>NaN</td>\n",
       "      <td>NaN</td>\n",
       "    </tr>\n",
       "    <tr>\n",
       "      <th>8706</th>\n",
       "      <td>&gt;10 to 15</td>\n",
       "      <td>NaN</td>\n",
       "      <td>NaN</td>\n",
       "      <td>NaN</td>\n",
       "      <td>NaN</td>\n",
       "      <td>NaN</td>\n",
       "      <td>NaN</td>\n",
       "      <td>NaN</td>\n",
       "      <td>NaN</td>\n",
       "      <td>NaN</td>\n",
       "      <td>NaN</td>\n",
       "      <td>NaN</td>\n",
       "      <td>NaN</td>\n",
       "      <td>NaN</td>\n",
       "      <td>NaN</td>\n",
       "    </tr>\n",
       "    <tr>\n",
       "      <th>8707</th>\n",
       "      <td>&gt;10 to 15</td>\n",
       "      <td>NaN</td>\n",
       "      <td>NaN</td>\n",
       "      <td>NaN</td>\n",
       "      <td>NaN</td>\n",
       "      <td>NaN</td>\n",
       "      <td>NaN</td>\n",
       "      <td>NaN</td>\n",
       "      <td>NaN</td>\n",
       "      <td>NaN</td>\n",
       "      <td>NaN</td>\n",
       "      <td>NaN</td>\n",
       "      <td>NaN</td>\n",
       "      <td>NaN</td>\n",
       "      <td>NaN</td>\n",
       "    </tr>\n",
       "  </tbody>\n",
       "</table>\n",
       "<p>8708 rows × 15 columns</p>\n",
       "</div>"
      ],
      "text/plain": [
       "     No..of.Years.in.Uni.at.Time.of.Grant.1  \\\n",
       "0                               Less than 0   \n",
       "1                              more than 15   \n",
       "2                                  >5 to 10   \n",
       "3                                  >5 to 10   \n",
       "4                                  >5 to 10   \n",
       "...                                     ...   \n",
       "8703                               >5 to 10   \n",
       "8704                               >5 to 10   \n",
       "8705                           more than 15   \n",
       "8706                              >10 to 15   \n",
       "8707                              >10 to 15   \n",
       "\n",
       "     No..of.Years.in.Uni.at.Time.of.Grant.2  \\\n",
       "0                                       NaN   \n",
       "1                                       NaN   \n",
       "2                               Less than 0   \n",
       "3                                  >=0 to 5   \n",
       "4                                       NaN   \n",
       "...                                     ...   \n",
       "8703                                    NaN   \n",
       "8704                               >=0 to 5   \n",
       "8705                                    NaN   \n",
       "8706                                    NaN   \n",
       "8707                                    NaN   \n",
       "\n",
       "     No..of.Years.in.Uni.at.Time.of.Grant.3  \\\n",
       "0                                       NaN   \n",
       "1                                       NaN   \n",
       "2                              more than 15   \n",
       "3                                       NaN   \n",
       "4                                       NaN   \n",
       "...                                     ...   \n",
       "8703                                    NaN   \n",
       "8704                                    NaN   \n",
       "8705                                    NaN   \n",
       "8706                                    NaN   \n",
       "8707                                    NaN   \n",
       "\n",
       "     No..of.Years.in.Uni.at.Time.of.Grant.4  \\\n",
       "0                                       NaN   \n",
       "1                                       NaN   \n",
       "2                              more than 15   \n",
       "3                                       NaN   \n",
       "4                                       NaN   \n",
       "...                                     ...   \n",
       "8703                                    NaN   \n",
       "8704                                    NaN   \n",
       "8705                                    NaN   \n",
       "8706                                    NaN   \n",
       "8707                                    NaN   \n",
       "\n",
       "     No..of.Years.in.Uni.at.Time.of.Grant.5  \\\n",
       "0                                       NaN   \n",
       "1                                       NaN   \n",
       "2                                       NaN   \n",
       "3                                       NaN   \n",
       "4                                       NaN   \n",
       "...                                     ...   \n",
       "8703                                    NaN   \n",
       "8704                                    NaN   \n",
       "8705                                    NaN   \n",
       "8706                                    NaN   \n",
       "8707                                    NaN   \n",
       "\n",
       "     No..of.Years.in.Uni.at.Time.of.Grant.6  \\\n",
       "0                                       NaN   \n",
       "1                                       NaN   \n",
       "2                                       NaN   \n",
       "3                                       NaN   \n",
       "4                                       NaN   \n",
       "...                                     ...   \n",
       "8703                                    NaN   \n",
       "8704                                    NaN   \n",
       "8705                                    NaN   \n",
       "8706                                    NaN   \n",
       "8707                                    NaN   \n",
       "\n",
       "     No..of.Years.in.Uni.at.Time.of.Grant.7  \\\n",
       "0                                       NaN   \n",
       "1                                       NaN   \n",
       "2                                       NaN   \n",
       "3                                       NaN   \n",
       "4                                       NaN   \n",
       "...                                     ...   \n",
       "8703                                    NaN   \n",
       "8704                                    NaN   \n",
       "8705                                    NaN   \n",
       "8706                                    NaN   \n",
       "8707                                    NaN   \n",
       "\n",
       "     No..of.Years.in.Uni.at.Time.of.Grant.8  \\\n",
       "0                                       NaN   \n",
       "1                                       NaN   \n",
       "2                                       NaN   \n",
       "3                                       NaN   \n",
       "4                                       NaN   \n",
       "...                                     ...   \n",
       "8703                                    NaN   \n",
       "8704                                    NaN   \n",
       "8705                                    NaN   \n",
       "8706                                    NaN   \n",
       "8707                                    NaN   \n",
       "\n",
       "     No..of.Years.in.Uni.at.Time.of.Grant.9  \\\n",
       "0                                       NaN   \n",
       "1                                       NaN   \n",
       "2                                       NaN   \n",
       "3                                       NaN   \n",
       "4                                       NaN   \n",
       "...                                     ...   \n",
       "8703                                    NaN   \n",
       "8704                                    NaN   \n",
       "8705                                    NaN   \n",
       "8706                                    NaN   \n",
       "8707                                    NaN   \n",
       "\n",
       "     No..of.Years.in.Uni.at.Time.of.Grant.10  \\\n",
       "0                                        NaN   \n",
       "1                                        NaN   \n",
       "2                                        NaN   \n",
       "3                                        NaN   \n",
       "4                                        NaN   \n",
       "...                                      ...   \n",
       "8703                                     NaN   \n",
       "8704                                     NaN   \n",
       "8705                                     NaN   \n",
       "8706                                     NaN   \n",
       "8707                                     NaN   \n",
       "\n",
       "     No..of.Years.in.Uni.at.Time.of.Grant.11  \\\n",
       "0                                        NaN   \n",
       "1                                        NaN   \n",
       "2                                        NaN   \n",
       "3                                        NaN   \n",
       "4                                        NaN   \n",
       "...                                      ...   \n",
       "8703                                     NaN   \n",
       "8704                                     NaN   \n",
       "8705                                     NaN   \n",
       "8706                                     NaN   \n",
       "8707                                     NaN   \n",
       "\n",
       "     No..of.Years.in.Uni.at.Time.of.Grant.12  \\\n",
       "0                                        NaN   \n",
       "1                                        NaN   \n",
       "2                                        NaN   \n",
       "3                                        NaN   \n",
       "4                                        NaN   \n",
       "...                                      ...   \n",
       "8703                                     NaN   \n",
       "8704                                     NaN   \n",
       "8705                                     NaN   \n",
       "8706                                     NaN   \n",
       "8707                                     NaN   \n",
       "\n",
       "     No..of.Years.in.Uni.at.Time.of.Grant.13  \\\n",
       "0                                        NaN   \n",
       "1                                        NaN   \n",
       "2                                        NaN   \n",
       "3                                        NaN   \n",
       "4                                        NaN   \n",
       "...                                      ...   \n",
       "8703                                     NaN   \n",
       "8704                                     NaN   \n",
       "8705                                     NaN   \n",
       "8706                                     NaN   \n",
       "8707                                     NaN   \n",
       "\n",
       "      No..of.Years.in.Uni.at.Time.of.Grant.14  \\\n",
       "0                                         NaN   \n",
       "1                                         NaN   \n",
       "2                                         NaN   \n",
       "3                                         NaN   \n",
       "4                                         NaN   \n",
       "...                                       ...   \n",
       "8703                                      NaN   \n",
       "8704                                      NaN   \n",
       "8705                                      NaN   \n",
       "8706                                      NaN   \n",
       "8707                                      NaN   \n",
       "\n",
       "     No..of.Years.in.Uni.at.Time.of.Grant.15  \n",
       "0                                        NaN  \n",
       "1                                        NaN  \n",
       "2                                        NaN  \n",
       "3                                        NaN  \n",
       "4                                        NaN  \n",
       "...                                      ...  \n",
       "8703                                     NaN  \n",
       "8704                                     NaN  \n",
       "8705                                     NaN  \n",
       "8706                                     NaN  \n",
       "8707                                     NaN  \n",
       "\n",
       "[8708 rows x 15 columns]"
      ]
     },
     "execution_count": 22,
     "metadata": {},
     "output_type": "execute_result"
    }
   ],
   "source": [
    "data[uniyear_cols]"
   ]
  },
  {
   "cell_type": "code",
   "execution_count": 23,
   "id": "ea9eda26",
   "metadata": {
    "execution": {
     "iopub.execute_input": "2023-08-20T13:19:01.380293Z",
     "iopub.status.busy": "2023-08-20T13:19:01.379624Z",
     "iopub.status.idle": "2023-08-20T13:19:07.806749Z",
     "shell.execute_reply": "2023-08-20T13:19:07.805145Z"
    },
    "papermill": {
     "duration": 6.454164,
     "end_time": "2023-08-20T13:19:07.809541",
     "exception": false,
     "start_time": "2023-08-20T13:19:01.355377",
     "status": "completed"
    },
    "tags": []
   },
   "outputs": [],
   "source": [
    "uniyearmap = {'Less than 0':1,'>=0 to 5':2,'>5 to 10':3,'>10 to 15':4,'more than 15':5}\n",
    "uniyear = data[uniyear_cols].apply(lambda x:x.map(uniyearmap),axis=1)"
   ]
  },
  {
   "cell_type": "code",
   "execution_count": 24,
   "id": "7436455c",
   "metadata": {
    "execution": {
     "iopub.execute_input": "2023-08-20T13:19:07.858196Z",
     "iopub.status.busy": "2023-08-20T13:19:07.857759Z",
     "iopub.status.idle": "2023-08-20T13:19:07.885953Z",
     "shell.execute_reply": "2023-08-20T13:19:07.884888Z"
    },
    "papermill": {
     "duration": 0.05508,
     "end_time": "2023-08-20T13:19:07.888074",
     "exception": false,
     "start_time": "2023-08-20T13:19:07.832994",
     "status": "completed"
    },
    "tags": []
   },
   "outputs": [
    {
     "data": {
      "text/html": [
       "<div>\n",
       "<style scoped>\n",
       "    .dataframe tbody tr th:only-of-type {\n",
       "        vertical-align: middle;\n",
       "    }\n",
       "\n",
       "    .dataframe tbody tr th {\n",
       "        vertical-align: top;\n",
       "    }\n",
       "\n",
       "    .dataframe thead th {\n",
       "        text-align: right;\n",
       "    }\n",
       "</style>\n",
       "<table border=\"1\" class=\"dataframe\">\n",
       "  <thead>\n",
       "    <tr style=\"text-align: right;\">\n",
       "      <th></th>\n",
       "      <th>No..of.Years.in.Uni.at.Time.of.Grant.1</th>\n",
       "      <th>No..of.Years.in.Uni.at.Time.of.Grant.2</th>\n",
       "      <th>No..of.Years.in.Uni.at.Time.of.Grant.3</th>\n",
       "      <th>No..of.Years.in.Uni.at.Time.of.Grant.4</th>\n",
       "      <th>No..of.Years.in.Uni.at.Time.of.Grant.5</th>\n",
       "      <th>No..of.Years.in.Uni.at.Time.of.Grant.6</th>\n",
       "      <th>No..of.Years.in.Uni.at.Time.of.Grant.7</th>\n",
       "      <th>No..of.Years.in.Uni.at.Time.of.Grant.8</th>\n",
       "      <th>No..of.Years.in.Uni.at.Time.of.Grant.9</th>\n",
       "      <th>No..of.Years.in.Uni.at.Time.of.Grant.10</th>\n",
       "      <th>No..of.Years.in.Uni.at.Time.of.Grant.11</th>\n",
       "      <th>No..of.Years.in.Uni.at.Time.of.Grant.12</th>\n",
       "      <th>No..of.Years.in.Uni.at.Time.of.Grant.13</th>\n",
       "      <th>No..of.Years.in.Uni.at.Time.of.Grant.14</th>\n",
       "      <th>No..of.Years.in.Uni.at.Time.of.Grant.15</th>\n",
       "    </tr>\n",
       "  </thead>\n",
       "  <tbody>\n",
       "    <tr>\n",
       "      <th>0</th>\n",
       "      <td>1.0</td>\n",
       "      <td>NaN</td>\n",
       "      <td>NaN</td>\n",
       "      <td>NaN</td>\n",
       "      <td>NaN</td>\n",
       "      <td>NaN</td>\n",
       "      <td>NaN</td>\n",
       "      <td>NaN</td>\n",
       "      <td>NaN</td>\n",
       "      <td>NaN</td>\n",
       "      <td>NaN</td>\n",
       "      <td>NaN</td>\n",
       "      <td>NaN</td>\n",
       "      <td>NaN</td>\n",
       "      <td>NaN</td>\n",
       "    </tr>\n",
       "    <tr>\n",
       "      <th>1</th>\n",
       "      <td>5.0</td>\n",
       "      <td>NaN</td>\n",
       "      <td>NaN</td>\n",
       "      <td>NaN</td>\n",
       "      <td>NaN</td>\n",
       "      <td>NaN</td>\n",
       "      <td>NaN</td>\n",
       "      <td>NaN</td>\n",
       "      <td>NaN</td>\n",
       "      <td>NaN</td>\n",
       "      <td>NaN</td>\n",
       "      <td>NaN</td>\n",
       "      <td>NaN</td>\n",
       "      <td>NaN</td>\n",
       "      <td>NaN</td>\n",
       "    </tr>\n",
       "    <tr>\n",
       "      <th>2</th>\n",
       "      <td>3.0</td>\n",
       "      <td>1.0</td>\n",
       "      <td>5.0</td>\n",
       "      <td>5.0</td>\n",
       "      <td>NaN</td>\n",
       "      <td>NaN</td>\n",
       "      <td>NaN</td>\n",
       "      <td>NaN</td>\n",
       "      <td>NaN</td>\n",
       "      <td>NaN</td>\n",
       "      <td>NaN</td>\n",
       "      <td>NaN</td>\n",
       "      <td>NaN</td>\n",
       "      <td>NaN</td>\n",
       "      <td>NaN</td>\n",
       "    </tr>\n",
       "    <tr>\n",
       "      <th>3</th>\n",
       "      <td>3.0</td>\n",
       "      <td>2.0</td>\n",
       "      <td>NaN</td>\n",
       "      <td>NaN</td>\n",
       "      <td>NaN</td>\n",
       "      <td>NaN</td>\n",
       "      <td>NaN</td>\n",
       "      <td>NaN</td>\n",
       "      <td>NaN</td>\n",
       "      <td>NaN</td>\n",
       "      <td>NaN</td>\n",
       "      <td>NaN</td>\n",
       "      <td>NaN</td>\n",
       "      <td>NaN</td>\n",
       "      <td>NaN</td>\n",
       "    </tr>\n",
       "    <tr>\n",
       "      <th>4</th>\n",
       "      <td>3.0</td>\n",
       "      <td>NaN</td>\n",
       "      <td>NaN</td>\n",
       "      <td>NaN</td>\n",
       "      <td>NaN</td>\n",
       "      <td>NaN</td>\n",
       "      <td>NaN</td>\n",
       "      <td>NaN</td>\n",
       "      <td>NaN</td>\n",
       "      <td>NaN</td>\n",
       "      <td>NaN</td>\n",
       "      <td>NaN</td>\n",
       "      <td>NaN</td>\n",
       "      <td>NaN</td>\n",
       "      <td>NaN</td>\n",
       "    </tr>\n",
       "    <tr>\n",
       "      <th>...</th>\n",
       "      <td>...</td>\n",
       "      <td>...</td>\n",
       "      <td>...</td>\n",
       "      <td>...</td>\n",
       "      <td>...</td>\n",
       "      <td>...</td>\n",
       "      <td>...</td>\n",
       "      <td>...</td>\n",
       "      <td>...</td>\n",
       "      <td>...</td>\n",
       "      <td>...</td>\n",
       "      <td>...</td>\n",
       "      <td>...</td>\n",
       "      <td>...</td>\n",
       "      <td>...</td>\n",
       "    </tr>\n",
       "    <tr>\n",
       "      <th>8703</th>\n",
       "      <td>3.0</td>\n",
       "      <td>NaN</td>\n",
       "      <td>NaN</td>\n",
       "      <td>NaN</td>\n",
       "      <td>NaN</td>\n",
       "      <td>NaN</td>\n",
       "      <td>NaN</td>\n",
       "      <td>NaN</td>\n",
       "      <td>NaN</td>\n",
       "      <td>NaN</td>\n",
       "      <td>NaN</td>\n",
       "      <td>NaN</td>\n",
       "      <td>NaN</td>\n",
       "      <td>NaN</td>\n",
       "      <td>NaN</td>\n",
       "    </tr>\n",
       "    <tr>\n",
       "      <th>8704</th>\n",
       "      <td>3.0</td>\n",
       "      <td>2.0</td>\n",
       "      <td>NaN</td>\n",
       "      <td>NaN</td>\n",
       "      <td>NaN</td>\n",
       "      <td>NaN</td>\n",
       "      <td>NaN</td>\n",
       "      <td>NaN</td>\n",
       "      <td>NaN</td>\n",
       "      <td>NaN</td>\n",
       "      <td>NaN</td>\n",
       "      <td>NaN</td>\n",
       "      <td>NaN</td>\n",
       "      <td>NaN</td>\n",
       "      <td>NaN</td>\n",
       "    </tr>\n",
       "    <tr>\n",
       "      <th>8705</th>\n",
       "      <td>5.0</td>\n",
       "      <td>NaN</td>\n",
       "      <td>NaN</td>\n",
       "      <td>NaN</td>\n",
       "      <td>NaN</td>\n",
       "      <td>NaN</td>\n",
       "      <td>NaN</td>\n",
       "      <td>NaN</td>\n",
       "      <td>NaN</td>\n",
       "      <td>NaN</td>\n",
       "      <td>NaN</td>\n",
       "      <td>NaN</td>\n",
       "      <td>NaN</td>\n",
       "      <td>NaN</td>\n",
       "      <td>NaN</td>\n",
       "    </tr>\n",
       "    <tr>\n",
       "      <th>8706</th>\n",
       "      <td>4.0</td>\n",
       "      <td>NaN</td>\n",
       "      <td>NaN</td>\n",
       "      <td>NaN</td>\n",
       "      <td>NaN</td>\n",
       "      <td>NaN</td>\n",
       "      <td>NaN</td>\n",
       "      <td>NaN</td>\n",
       "      <td>NaN</td>\n",
       "      <td>NaN</td>\n",
       "      <td>NaN</td>\n",
       "      <td>NaN</td>\n",
       "      <td>NaN</td>\n",
       "      <td>NaN</td>\n",
       "      <td>NaN</td>\n",
       "    </tr>\n",
       "    <tr>\n",
       "      <th>8707</th>\n",
       "      <td>4.0</td>\n",
       "      <td>NaN</td>\n",
       "      <td>NaN</td>\n",
       "      <td>NaN</td>\n",
       "      <td>NaN</td>\n",
       "      <td>NaN</td>\n",
       "      <td>NaN</td>\n",
       "      <td>NaN</td>\n",
       "      <td>NaN</td>\n",
       "      <td>NaN</td>\n",
       "      <td>NaN</td>\n",
       "      <td>NaN</td>\n",
       "      <td>NaN</td>\n",
       "      <td>NaN</td>\n",
       "      <td>NaN</td>\n",
       "    </tr>\n",
       "  </tbody>\n",
       "</table>\n",
       "<p>8708 rows × 15 columns</p>\n",
       "</div>"
      ],
      "text/plain": [
       "      No..of.Years.in.Uni.at.Time.of.Grant.1  \\\n",
       "0                                        1.0   \n",
       "1                                        5.0   \n",
       "2                                        3.0   \n",
       "3                                        3.0   \n",
       "4                                        3.0   \n",
       "...                                      ...   \n",
       "8703                                     3.0   \n",
       "8704                                     3.0   \n",
       "8705                                     5.0   \n",
       "8706                                     4.0   \n",
       "8707                                     4.0   \n",
       "\n",
       "      No..of.Years.in.Uni.at.Time.of.Grant.2  \\\n",
       "0                                        NaN   \n",
       "1                                        NaN   \n",
       "2                                        1.0   \n",
       "3                                        2.0   \n",
       "4                                        NaN   \n",
       "...                                      ...   \n",
       "8703                                     NaN   \n",
       "8704                                     2.0   \n",
       "8705                                     NaN   \n",
       "8706                                     NaN   \n",
       "8707                                     NaN   \n",
       "\n",
       "      No..of.Years.in.Uni.at.Time.of.Grant.3  \\\n",
       "0                                        NaN   \n",
       "1                                        NaN   \n",
       "2                                        5.0   \n",
       "3                                        NaN   \n",
       "4                                        NaN   \n",
       "...                                      ...   \n",
       "8703                                     NaN   \n",
       "8704                                     NaN   \n",
       "8705                                     NaN   \n",
       "8706                                     NaN   \n",
       "8707                                     NaN   \n",
       "\n",
       "      No..of.Years.in.Uni.at.Time.of.Grant.4  \\\n",
       "0                                        NaN   \n",
       "1                                        NaN   \n",
       "2                                        5.0   \n",
       "3                                        NaN   \n",
       "4                                        NaN   \n",
       "...                                      ...   \n",
       "8703                                     NaN   \n",
       "8704                                     NaN   \n",
       "8705                                     NaN   \n",
       "8706                                     NaN   \n",
       "8707                                     NaN   \n",
       "\n",
       "      No..of.Years.in.Uni.at.Time.of.Grant.5  \\\n",
       "0                                        NaN   \n",
       "1                                        NaN   \n",
       "2                                        NaN   \n",
       "3                                        NaN   \n",
       "4                                        NaN   \n",
       "...                                      ...   \n",
       "8703                                     NaN   \n",
       "8704                                     NaN   \n",
       "8705                                     NaN   \n",
       "8706                                     NaN   \n",
       "8707                                     NaN   \n",
       "\n",
       "      No..of.Years.in.Uni.at.Time.of.Grant.6  \\\n",
       "0                                        NaN   \n",
       "1                                        NaN   \n",
       "2                                        NaN   \n",
       "3                                        NaN   \n",
       "4                                        NaN   \n",
       "...                                      ...   \n",
       "8703                                     NaN   \n",
       "8704                                     NaN   \n",
       "8705                                     NaN   \n",
       "8706                                     NaN   \n",
       "8707                                     NaN   \n",
       "\n",
       "      No..of.Years.in.Uni.at.Time.of.Grant.7  \\\n",
       "0                                        NaN   \n",
       "1                                        NaN   \n",
       "2                                        NaN   \n",
       "3                                        NaN   \n",
       "4                                        NaN   \n",
       "...                                      ...   \n",
       "8703                                     NaN   \n",
       "8704                                     NaN   \n",
       "8705                                     NaN   \n",
       "8706                                     NaN   \n",
       "8707                                     NaN   \n",
       "\n",
       "      No..of.Years.in.Uni.at.Time.of.Grant.8  \\\n",
       "0                                        NaN   \n",
       "1                                        NaN   \n",
       "2                                        NaN   \n",
       "3                                        NaN   \n",
       "4                                        NaN   \n",
       "...                                      ...   \n",
       "8703                                     NaN   \n",
       "8704                                     NaN   \n",
       "8705                                     NaN   \n",
       "8706                                     NaN   \n",
       "8707                                     NaN   \n",
       "\n",
       "      No..of.Years.in.Uni.at.Time.of.Grant.9  \\\n",
       "0                                        NaN   \n",
       "1                                        NaN   \n",
       "2                                        NaN   \n",
       "3                                        NaN   \n",
       "4                                        NaN   \n",
       "...                                      ...   \n",
       "8703                                     NaN   \n",
       "8704                                     NaN   \n",
       "8705                                     NaN   \n",
       "8706                                     NaN   \n",
       "8707                                     NaN   \n",
       "\n",
       "      No..of.Years.in.Uni.at.Time.of.Grant.10  \\\n",
       "0                                         NaN   \n",
       "1                                         NaN   \n",
       "2                                         NaN   \n",
       "3                                         NaN   \n",
       "4                                         NaN   \n",
       "...                                       ...   \n",
       "8703                                      NaN   \n",
       "8704                                      NaN   \n",
       "8705                                      NaN   \n",
       "8706                                      NaN   \n",
       "8707                                      NaN   \n",
       "\n",
       "      No..of.Years.in.Uni.at.Time.of.Grant.11  \\\n",
       "0                                         NaN   \n",
       "1                                         NaN   \n",
       "2                                         NaN   \n",
       "3                                         NaN   \n",
       "4                                         NaN   \n",
       "...                                       ...   \n",
       "8703                                      NaN   \n",
       "8704                                      NaN   \n",
       "8705                                      NaN   \n",
       "8706                                      NaN   \n",
       "8707                                      NaN   \n",
       "\n",
       "      No..of.Years.in.Uni.at.Time.of.Grant.12  \\\n",
       "0                                         NaN   \n",
       "1                                         NaN   \n",
       "2                                         NaN   \n",
       "3                                         NaN   \n",
       "4                                         NaN   \n",
       "...                                       ...   \n",
       "8703                                      NaN   \n",
       "8704                                      NaN   \n",
       "8705                                      NaN   \n",
       "8706                                      NaN   \n",
       "8707                                      NaN   \n",
       "\n",
       "      No..of.Years.in.Uni.at.Time.of.Grant.13  \\\n",
       "0                                         NaN   \n",
       "1                                         NaN   \n",
       "2                                         NaN   \n",
       "3                                         NaN   \n",
       "4                                         NaN   \n",
       "...                                       ...   \n",
       "8703                                      NaN   \n",
       "8704                                      NaN   \n",
       "8705                                      NaN   \n",
       "8706                                      NaN   \n",
       "8707                                      NaN   \n",
       "\n",
       "      No..of.Years.in.Uni.at.Time.of.Grant.14  \\\n",
       "0                                         NaN   \n",
       "1                                         NaN   \n",
       "2                                         NaN   \n",
       "3                                         NaN   \n",
       "4                                         NaN   \n",
       "...                                       ...   \n",
       "8703                                      NaN   \n",
       "8704                                      NaN   \n",
       "8705                                      NaN   \n",
       "8706                                      NaN   \n",
       "8707                                      NaN   \n",
       "\n",
       "      No..of.Years.in.Uni.at.Time.of.Grant.15  \n",
       "0                                         NaN  \n",
       "1                                         NaN  \n",
       "2                                         NaN  \n",
       "3                                         NaN  \n",
       "4                                         NaN  \n",
       "...                                       ...  \n",
       "8703                                      NaN  \n",
       "8704                                      NaN  \n",
       "8705                                      NaN  \n",
       "8706                                      NaN  \n",
       "8707                                      NaN  \n",
       "\n",
       "[8708 rows x 15 columns]"
      ]
     },
     "execution_count": 24,
     "metadata": {},
     "output_type": "execute_result"
    }
   ],
   "source": [
    "uniyear"
   ]
  },
  {
   "cell_type": "code",
   "execution_count": 25,
   "id": "8b504800",
   "metadata": {
    "execution": {
     "iopub.execute_input": "2023-08-20T13:19:07.937536Z",
     "iopub.status.busy": "2023-08-20T13:19:07.937122Z",
     "iopub.status.idle": "2023-08-20T13:19:07.945841Z",
     "shell.execute_reply": "2023-08-20T13:19:07.944772Z"
    },
    "papermill": {
     "duration": 0.036095,
     "end_time": "2023-08-20T13:19:07.948111",
     "exception": false,
     "start_time": "2023-08-20T13:19:07.912016",
     "status": "completed"
    },
    "tags": []
   },
   "outputs": [
    {
     "name": "stderr",
     "output_type": "stream",
     "text": [
      "/tmp/ipykernel_20/2145224201.py:1: RuntimeWarning: All-NaN axis encountered\n",
      "  uniyear_min = np.nanmin(uniyear,axis=1)\n"
     ]
    },
    {
     "data": {
      "text/plain": [
       "array([1., 5., 1., ..., 5., 4., 4.])"
      ]
     },
     "execution_count": 25,
     "metadata": {},
     "output_type": "execute_result"
    }
   ],
   "source": [
    "uniyear_min = np.nanmin(uniyear,axis=1)\n",
    "uniyear_min"
   ]
  },
  {
   "cell_type": "code",
   "execution_count": 26,
   "id": "bd391f22",
   "metadata": {
    "execution": {
     "iopub.execute_input": "2023-08-20T13:19:07.998341Z",
     "iopub.status.busy": "2023-08-20T13:19:07.997958Z",
     "iopub.status.idle": "2023-08-20T13:19:08.004636Z",
     "shell.execute_reply": "2023-08-20T13:19:08.003483Z"
    },
    "papermill": {
     "duration": 0.034614,
     "end_time": "2023-08-20T13:19:08.007117",
     "exception": false,
     "start_time": "2023-08-20T13:19:07.972503",
     "status": "completed"
    },
    "tags": []
   },
   "outputs": [
    {
     "data": {
      "text/plain": [
       "['Number.of.Successful.Grant.1',\n",
       " 'Number.of.Successful.Grant.2',\n",
       " 'Number.of.Successful.Grant.3',\n",
       " 'Number.of.Successful.Grant.4',\n",
       " 'Number.of.Successful.Grant.5',\n",
       " 'Number.of.Successful.Grant.6',\n",
       " 'Number.of.Successful.Grant.7',\n",
       " 'Number.of.Successful.Grant.8',\n",
       " 'Number.of.Successful.Grant.9',\n",
       " 'Number.of.Successful.Grant.10',\n",
       " 'Number.of.Successful.Grant.11',\n",
       " 'Number.of.Successful.Grant.12',\n",
       " 'Number.of.Successful.Grant.13',\n",
       " 'Number.of.Successful.Grant.14',\n",
       " 'Number.of.Successful.Grant.15']"
      ]
     },
     "execution_count": 26,
     "metadata": {},
     "output_type": "execute_result"
    }
   ],
   "source": [
    "noofsuccess_cols = ['Number.of.Successful.Grant.'+str(i) for i in range(1,16)]\n",
    "noofsuccess_cols"
   ]
  },
  {
   "cell_type": "code",
   "execution_count": 27,
   "id": "5777d45c",
   "metadata": {
    "execution": {
     "iopub.execute_input": "2023-08-20T13:19:08.059031Z",
     "iopub.status.busy": "2023-08-20T13:19:08.057900Z",
     "iopub.status.idle": "2023-08-20T13:19:08.067258Z",
     "shell.execute_reply": "2023-08-20T13:19:08.066236Z"
    },
    "papermill": {
     "duration": 0.037842,
     "end_time": "2023-08-20T13:19:08.069598",
     "exception": false,
     "start_time": "2023-08-20T13:19:08.031756",
     "status": "completed"
    },
    "tags": []
   },
   "outputs": [
    {
     "data": {
      "text/plain": [
       "0.0    81\n",
       "1.0    30\n",
       "2.0    20\n",
       "3.0    13\n",
       "4.0     4\n",
       "5.0     3\n",
       "7.0     3\n",
       "9.0     2\n",
       "Name: Number.of.Successful.Grant.5, dtype: int64"
      ]
     },
     "execution_count": 27,
     "metadata": {},
     "output_type": "execute_result"
    }
   ],
   "source": [
    "data['Number.of.Successful.Grant.5'].value_counts()"
   ]
  },
  {
   "cell_type": "code",
   "execution_count": 28,
   "id": "5623a253",
   "metadata": {
    "execution": {
     "iopub.execute_input": "2023-08-20T13:19:08.121200Z",
     "iopub.status.busy": "2023-08-20T13:19:08.120767Z",
     "iopub.status.idle": "2023-08-20T13:19:08.131689Z",
     "shell.execute_reply": "2023-08-20T13:19:08.130930Z"
    },
    "papermill": {
     "duration": 0.039682,
     "end_time": "2023-08-20T13:19:08.134010",
     "exception": false,
     "start_time": "2023-08-20T13:19:08.094328",
     "status": "completed"
    },
    "tags": []
   },
   "outputs": [
    {
     "name": "stderr",
     "output_type": "stream",
     "text": [
      "/tmp/ipykernel_20/3324578939.py:1: RuntimeWarning: All-NaN axis encountered\n",
      "  min_success = np.nanmin(data[noofsuccess_cols],axis=1)\n"
     ]
    },
    {
     "data": {
      "text/plain": [
       "array([0., 0., 0., ..., 1., 2., 9.])"
      ]
     },
     "execution_count": 28,
     "metadata": {},
     "output_type": "execute_result"
    }
   ],
   "source": [
    "min_success = np.nanmin(data[noofsuccess_cols],axis=1)\n",
    "min_success"
   ]
  },
  {
   "cell_type": "code",
   "execution_count": 29,
   "id": "754ecce6",
   "metadata": {
    "execution": {
     "iopub.execute_input": "2023-08-20T13:19:08.185703Z",
     "iopub.status.busy": "2023-08-20T13:19:08.185262Z",
     "iopub.status.idle": "2023-08-20T13:19:08.194302Z",
     "shell.execute_reply": "2023-08-20T13:19:08.193500Z"
    },
    "papermill": {
     "duration": 0.037073,
     "end_time": "2023-08-20T13:19:08.196252",
     "exception": false,
     "start_time": "2023-08-20T13:19:08.159179",
     "status": "completed"
    },
    "tags": []
   },
   "outputs": [
    {
     "data": {
      "text/plain": [
       "array([0., 0., 0., ..., 1., 2., 9.])"
      ]
     },
     "execution_count": 29,
     "metadata": {},
     "output_type": "execute_result"
    }
   ],
   "source": [
    "total_success = np.nansum(data[noofsuccess_cols],axis=1)\n",
    "total_success"
   ]
  },
  {
   "cell_type": "code",
   "execution_count": 30,
   "id": "4970235a",
   "metadata": {
    "execution": {
     "iopub.execute_input": "2023-08-20T13:19:08.248217Z",
     "iopub.status.busy": "2023-08-20T13:19:08.247820Z",
     "iopub.status.idle": "2023-08-20T13:19:08.255279Z",
     "shell.execute_reply": "2023-08-20T13:19:08.254238Z"
    },
    "papermill": {
     "duration": 0.03618,
     "end_time": "2023-08-20T13:19:08.257448",
     "exception": false,
     "start_time": "2023-08-20T13:19:08.221268",
     "status": "completed"
    },
    "tags": []
   },
   "outputs": [
    {
     "data": {
      "text/plain": [
       "['Number.of.Unsuccessful.Grant.1',\n",
       " 'Number.of.Unsuccessful.Grant.2',\n",
       " 'Number.of.Unsuccessful.Grant.3',\n",
       " 'Number.of.Unsuccessful.Grant.4',\n",
       " 'Number.of.Unsuccessful.Grant.5',\n",
       " 'Number.of.Unsuccessful.Grant.6',\n",
       " 'Number.of.Unsuccessful.Grant.7',\n",
       " 'Number.of.Unsuccessful.Grant.8',\n",
       " 'Number.of.Unsuccessful.Grant.9',\n",
       " 'Number.of.Unsuccessful.Grant.10',\n",
       " 'Number.of.Unsuccessful.Grant.11',\n",
       " 'Number.of.Unsuccessful.Grant.12',\n",
       " 'Number.of.Unsuccessful.Grant.13',\n",
       " 'Number.of.Unsuccessful.Grant.14',\n",
       " 'Number.of.Unsuccessful.Grant.15']"
      ]
     },
     "execution_count": 30,
     "metadata": {},
     "output_type": "execute_result"
    }
   ],
   "source": [
    "noofunsuccess_cols = ['Number.of.Unsuccessful.Grant.'+str(i) for i in range(1,16)]\n",
    "noofunsuccess_cols"
   ]
  },
  {
   "cell_type": "code",
   "execution_count": 31,
   "id": "3b9317f9",
   "metadata": {
    "execution": {
     "iopub.execute_input": "2023-08-20T13:19:08.309661Z",
     "iopub.status.busy": "2023-08-20T13:19:08.309229Z",
     "iopub.status.idle": "2023-08-20T13:19:08.318357Z",
     "shell.execute_reply": "2023-08-20T13:19:08.317614Z"
    },
    "papermill": {
     "duration": 0.037868,
     "end_time": "2023-08-20T13:19:08.320428",
     "exception": false,
     "start_time": "2023-08-20T13:19:08.282560",
     "status": "completed"
    },
    "tags": []
   },
   "outputs": [
    {
     "data": {
      "text/plain": [
       "0.0     69\n",
       "1.0     28\n",
       "2.0     25\n",
       "3.0      9\n",
       "4.0      6\n",
       "6.0      5\n",
       "5.0      3\n",
       "20.0     2\n",
       "18.0     2\n",
       "7.0      1\n",
       "16.0     1\n",
       "8.0      1\n",
       "9.0      1\n",
       "10.0     1\n",
       "14.0     1\n",
       "21.0     1\n",
       "Name: Number.of.Unsuccessful.Grant.5, dtype: int64"
      ]
     },
     "execution_count": 31,
     "metadata": {},
     "output_type": "execute_result"
    }
   ],
   "source": [
    "data['Number.of.Unsuccessful.Grant.5'].value_counts()"
   ]
  },
  {
   "cell_type": "code",
   "execution_count": 32,
   "id": "e31e2eee",
   "metadata": {
    "execution": {
     "iopub.execute_input": "2023-08-20T13:19:08.372726Z",
     "iopub.status.busy": "2023-08-20T13:19:08.372322Z",
     "iopub.status.idle": "2023-08-20T13:19:08.382951Z",
     "shell.execute_reply": "2023-08-20T13:19:08.381921Z"
    },
    "papermill": {
     "duration": 0.039429,
     "end_time": "2023-08-20T13:19:08.385133",
     "exception": false,
     "start_time": "2023-08-20T13:19:08.345704",
     "status": "completed"
    },
    "tags": []
   },
   "outputs": [
    {
     "name": "stderr",
     "output_type": "stream",
     "text": [
      "/tmp/ipykernel_20/3507670016.py:1: RuntimeWarning: All-NaN axis encountered\n",
      "  min_unsuccess = np.nanmin(data[noofsuccess_cols],axis=1)\n"
     ]
    },
    {
     "data": {
      "text/plain": [
       "array([0., 0., 0., ..., 1., 2., 9.])"
      ]
     },
     "execution_count": 32,
     "metadata": {},
     "output_type": "execute_result"
    }
   ],
   "source": [
    "min_unsuccess = np.nanmin(data[noofsuccess_cols],axis=1)\n",
    "min_unsuccess"
   ]
  },
  {
   "cell_type": "code",
   "execution_count": 33,
   "id": "b1e2a30e",
   "metadata": {
    "execution": {
     "iopub.execute_input": "2023-08-20T13:19:08.437916Z",
     "iopub.status.busy": "2023-08-20T13:19:08.437509Z",
     "iopub.status.idle": "2023-08-20T13:19:08.446866Z",
     "shell.execute_reply": "2023-08-20T13:19:08.445797Z"
    },
    "papermill": {
     "duration": 0.038533,
     "end_time": "2023-08-20T13:19:08.449193",
     "exception": false,
     "start_time": "2023-08-20T13:19:08.410660",
     "status": "completed"
    },
    "tags": []
   },
   "outputs": [
    {
     "data": {
      "text/plain": [
       "8708"
      ]
     },
     "execution_count": 33,
     "metadata": {},
     "output_type": "execute_result"
    }
   ],
   "source": [
    "total_unsuccess = np.nansum(data[noofsuccess_cols],axis=1)\n",
    "len(total_unsuccess)"
   ]
  },
  {
   "cell_type": "code",
   "execution_count": 34,
   "id": "564b5245",
   "metadata": {
    "execution": {
     "iopub.execute_input": "2023-08-20T13:19:08.502372Z",
     "iopub.status.busy": "2023-08-20T13:19:08.501972Z",
     "iopub.status.idle": "2023-08-20T13:19:08.509374Z",
     "shell.execute_reply": "2023-08-20T13:19:08.508350Z"
    },
    "papermill": {
     "duration": 0.036402,
     "end_time": "2023-08-20T13:19:08.511515",
     "exception": false,
     "start_time": "2023-08-20T13:19:08.475113",
     "status": "completed"
    },
    "tags": []
   },
   "outputs": [
    {
     "data": {
      "text/plain": [
       "['A..1',\n",
       " 'A..2',\n",
       " 'A..3',\n",
       " 'A..4',\n",
       " 'A..5',\n",
       " 'A..6',\n",
       " 'A..7',\n",
       " 'A..8',\n",
       " 'A..9',\n",
       " 'A..10',\n",
       " 'A..11',\n",
       " 'A..12',\n",
       " 'A..13',\n",
       " 'A..14',\n",
       " 'A..15']"
      ]
     },
     "execution_count": 34,
     "metadata": {},
     "output_type": "execute_result"
    }
   ],
   "source": [
    "Astar_cols = ['A..'+str(i) for i in range(1,16)]\n",
    "Astar_cols"
   ]
  },
  {
   "cell_type": "code",
   "execution_count": 35,
   "id": "1aa70726",
   "metadata": {
    "execution": {
     "iopub.execute_input": "2023-08-20T13:19:08.566115Z",
     "iopub.status.busy": "2023-08-20T13:19:08.565715Z",
     "iopub.status.idle": "2023-08-20T13:19:08.573148Z",
     "shell.execute_reply": "2023-08-20T13:19:08.572368Z"
    },
    "papermill": {
     "duration": 0.037031,
     "end_time": "2023-08-20T13:19:08.575414",
     "exception": false,
     "start_time": "2023-08-20T13:19:08.538383",
     "status": "completed"
    },
    "tags": []
   },
   "outputs": [
    {
     "data": {
      "text/plain": [
       "0.0    67\n",
       "1.0     1\n",
       "3.0     1\n",
       "5.0     1\n",
       "Name: A..6, dtype: int64"
      ]
     },
     "execution_count": 35,
     "metadata": {},
     "output_type": "execute_result"
    }
   ],
   "source": [
    "data['A..6'].value_counts()"
   ]
  },
  {
   "cell_type": "code",
   "execution_count": 36,
   "id": "b43627c6",
   "metadata": {
    "execution": {
     "iopub.execute_input": "2023-08-20T13:19:08.630319Z",
     "iopub.status.busy": "2023-08-20T13:19:08.629959Z",
     "iopub.status.idle": "2023-08-20T13:19:08.638095Z",
     "shell.execute_reply": "2023-08-20T13:19:08.637106Z"
    },
    "papermill": {
     "duration": 0.039032,
     "end_time": "2023-08-20T13:19:08.640274",
     "exception": false,
     "start_time": "2023-08-20T13:19:08.601242",
     "status": "completed"
    },
    "tags": []
   },
   "outputs": [
    {
     "data": {
      "text/plain": [
       "array([4., 6., 7., ..., 3., 0., 0.])"
      ]
     },
     "execution_count": 36,
     "metadata": {},
     "output_type": "execute_result"
    }
   ],
   "source": [
    "total_Astar_papers = np.nansum(data[Astar_cols],axis=1)\n",
    "total_Astar_papers"
   ]
  },
  {
   "cell_type": "code",
   "execution_count": 37,
   "id": "8b94550d",
   "metadata": {
    "execution": {
     "iopub.execute_input": "2023-08-20T13:19:08.693743Z",
     "iopub.status.busy": "2023-08-20T13:19:08.693121Z",
     "iopub.status.idle": "2023-08-20T13:19:08.701762Z",
     "shell.execute_reply": "2023-08-20T13:19:08.701053Z"
    },
    "papermill": {
     "duration": 0.037721,
     "end_time": "2023-08-20T13:19:08.703792",
     "exception": false,
     "start_time": "2023-08-20T13:19:08.666071",
     "status": "completed"
    },
    "tags": []
   },
   "outputs": [
    {
     "data": {
      "text/plain": [
       "0.0     2883\n",
       "1.0       27\n",
       "2.0       20\n",
       "3.0       19\n",
       "4.0       12\n",
       "7.0       10\n",
       "8.0        5\n",
       "10.0       4\n",
       "5.0        3\n",
       "9.0        2\n",
       "23.0       1\n",
       "6.0        1\n",
       "24.0       1\n",
       "28.0       1\n",
       "Name: A.2, dtype: int64"
      ]
     },
     "execution_count": 37,
     "metadata": {},
     "output_type": "execute_result"
    }
   ],
   "source": [
    "A_cols = ['A.'+str(i) for i in range(1,16)]\n",
    "data['A.2'].value_counts()"
   ]
  },
  {
   "cell_type": "code",
   "execution_count": 38,
   "id": "d2102382",
   "metadata": {
    "execution": {
     "iopub.execute_input": "2023-08-20T13:19:08.758830Z",
     "iopub.status.busy": "2023-08-20T13:19:08.758250Z",
     "iopub.status.idle": "2023-08-20T13:19:08.766047Z",
     "shell.execute_reply": "2023-08-20T13:19:08.765096Z"
    },
    "papermill": {
     "duration": 0.037493,
     "end_time": "2023-08-20T13:19:08.768028",
     "exception": false,
     "start_time": "2023-08-20T13:19:08.730535",
     "status": "completed"
    },
    "tags": []
   },
   "outputs": [
    {
     "data": {
      "text/plain": [
       "array([ 2., 12., 20., ...,  4.,  3., 13.])"
      ]
     },
     "execution_count": 38,
     "metadata": {},
     "output_type": "execute_result"
    }
   ],
   "source": [
    "total_A = np.nansum(data[A_cols],axis=1)\n",
    "total_A"
   ]
  },
  {
   "cell_type": "code",
   "execution_count": 39,
   "id": "4c88ae1c",
   "metadata": {
    "execution": {
     "iopub.execute_input": "2023-08-20T13:19:08.821757Z",
     "iopub.status.busy": "2023-08-20T13:19:08.821079Z",
     "iopub.status.idle": "2023-08-20T13:19:08.827590Z",
     "shell.execute_reply": "2023-08-20T13:19:08.826914Z"
    },
    "papermill": {
     "duration": 0.035711,
     "end_time": "2023-08-20T13:19:08.829519",
     "exception": false,
     "start_time": "2023-08-20T13:19:08.793808",
     "status": "completed"
    },
    "tags": []
   },
   "outputs": [
    {
     "data": {
      "text/plain": [
       "['B.1',\n",
       " 'B.2',\n",
       " 'B.3',\n",
       " 'B.4',\n",
       " 'B.5',\n",
       " 'B.6',\n",
       " 'B.7',\n",
       " 'B.8',\n",
       " 'B.9',\n",
       " 'B.10',\n",
       " 'B.11',\n",
       " 'B.12',\n",
       " 'B.13',\n",
       " 'B.14',\n",
       " 'B.15']"
      ]
     },
     "execution_count": 39,
     "metadata": {},
     "output_type": "execute_result"
    }
   ],
   "source": [
    "B_cols = ['B.'+str(i) for i in range(1,16)]\n",
    "B_cols"
   ]
  },
  {
   "cell_type": "code",
   "execution_count": 40,
   "id": "c4143852",
   "metadata": {
    "execution": {
     "iopub.execute_input": "2023-08-20T13:19:08.884936Z",
     "iopub.status.busy": "2023-08-20T13:19:08.884181Z",
     "iopub.status.idle": "2023-08-20T13:19:08.893957Z",
     "shell.execute_reply": "2023-08-20T13:19:08.893027Z"
    },
    "papermill": {
     "duration": 0.040239,
     "end_time": "2023-08-20T13:19:08.896081",
     "exception": false,
     "start_time": "2023-08-20T13:19:08.855842",
     "status": "completed"
    },
    "tags": []
   },
   "outputs": [
    {
     "data": {
      "text/plain": [
       "array([ 0.,  2., 20., ...,  5.,  7., 12.])"
      ]
     },
     "execution_count": 40,
     "metadata": {},
     "output_type": "execute_result"
    }
   ],
   "source": [
    "total_B = np.nansum(data[B_cols], axis=1)\n",
    "total_B"
   ]
  },
  {
   "cell_type": "code",
   "execution_count": 41,
   "id": "847f0aed",
   "metadata": {
    "execution": {
     "iopub.execute_input": "2023-08-20T13:19:08.950692Z",
     "iopub.status.busy": "2023-08-20T13:19:08.950303Z",
     "iopub.status.idle": "2023-08-20T13:19:08.957724Z",
     "shell.execute_reply": "2023-08-20T13:19:08.956742Z"
    },
    "papermill": {
     "duration": 0.037221,
     "end_time": "2023-08-20T13:19:08.959741",
     "exception": false,
     "start_time": "2023-08-20T13:19:08.922520",
     "status": "completed"
    },
    "tags": []
   },
   "outputs": [],
   "source": [
    "C_cols = ['C.'+str(i) for i in range(1,16)]\n",
    "total_C = np.nansum(data[C_cols],axis=1)"
   ]
  },
  {
   "cell_type": "code",
   "execution_count": 42,
   "id": "5e5087ae",
   "metadata": {
    "execution": {
     "iopub.execute_input": "2023-08-20T13:19:09.015039Z",
     "iopub.status.busy": "2023-08-20T13:19:09.014417Z",
     "iopub.status.idle": "2023-08-20T13:19:09.022999Z",
     "shell.execute_reply": "2023-08-20T13:19:09.021915Z"
    },
    "papermill": {
     "duration": 0.039518,
     "end_time": "2023-08-20T13:19:09.025469",
     "exception": false,
     "start_time": "2023-08-20T13:19:08.985951",
     "status": "completed"
    },
    "tags": []
   },
   "outputs": [
    {
     "data": {
      "text/plain": [
       "0       NaN\n",
       "1       NaN\n",
       "2       NaN\n",
       "3       NaN\n",
       "4       NaN\n",
       "       ... \n",
       "8703    NaN\n",
       "8704    NaN\n",
       "8705    NaN\n",
       "8706    NaN\n",
       "8707    NaN\n",
       "Name: With.PHD.13, Length: 8708, dtype: object"
      ]
     },
     "execution_count": 42,
     "metadata": {},
     "output_type": "execute_result"
    }
   ],
   "source": [
    "data['With.PHD.13']"
   ]
  },
  {
   "cell_type": "code",
   "execution_count": 43,
   "id": "8f3a7336",
   "metadata": {
    "execution": {
     "iopub.execute_input": "2023-08-20T13:19:09.082714Z",
     "iopub.status.busy": "2023-08-20T13:19:09.082064Z",
     "iopub.status.idle": "2023-08-20T13:19:10.268909Z",
     "shell.execute_reply": "2023-08-20T13:19:10.267653Z"
    },
    "papermill": {
     "duration": 1.218777,
     "end_time": "2023-08-20T13:19:10.271393",
     "exception": false,
     "start_time": "2023-08-20T13:19:09.052616",
     "status": "completed"
    },
    "tags": []
   },
   "outputs": [
    {
     "data": {
      "text/plain": [
       "0       0\n",
       "1       1\n",
       "2       2\n",
       "3       2\n",
       "4       1\n",
       "       ..\n",
       "8703    1\n",
       "8704    2\n",
       "8705    1\n",
       "8706    1\n",
       "8707    1\n",
       "Length: 8708, dtype: int64"
      ]
     },
     "execution_count": 43,
     "metadata": {},
     "output_type": "execute_result"
    }
   ],
   "source": [
    "phd_cols = ['With.PHD.'+str(i) for i in range(1,16)]\n",
    "has_phd = data[phd_cols].apply(lambda x: 15 - x.isna().sum(), axis=1)\n",
    "has_phd"
   ]
  },
  {
   "cell_type": "code",
   "execution_count": 44,
   "id": "757d5036",
   "metadata": {
    "execution": {
     "iopub.execute_input": "2023-08-20T13:19:10.327890Z",
     "iopub.status.busy": "2023-08-20T13:19:10.327479Z",
     "iopub.status.idle": "2023-08-20T13:19:10.336880Z",
     "shell.execute_reply": "2023-08-20T13:19:10.335920Z"
    },
    "papermill": {
     "duration": 0.040948,
     "end_time": "2023-08-20T13:19:10.339366",
     "exception": false,
     "start_time": "2023-08-20T13:19:10.298418",
     "status": "completed"
    },
    "tags": []
   },
   "outputs": [
    {
     "data": {
      "text/plain": [
       "With.PHD.1     Yes \n",
       "With.PHD.2     Yes \n",
       "With.PHD.3      NaN\n",
       "With.PHD.4      NaN\n",
       "With.PHD.5      NaN\n",
       "With.PHD.6      NaN\n",
       "With.PHD.7      NaN\n",
       "With.PHD.8      NaN\n",
       "With.PHD.9      NaN\n",
       "With.PHD.10     NaN\n",
       "With.PHD.11     NaN\n",
       "With.PHD.12     NaN\n",
       "With.PHD.13     NaN\n",
       "With.PHD.14     NaN\n",
       "With.PHD.15     NaN\n",
       "Name: 3, dtype: object"
      ]
     },
     "execution_count": 44,
     "metadata": {},
     "output_type": "execute_result"
    }
   ],
   "source": [
    "data.loc[3,phd_cols]"
   ]
  },
  {
   "cell_type": "code",
   "execution_count": 45,
   "id": "56b63cc1",
   "metadata": {
    "execution": {
     "iopub.execute_input": "2023-08-20T13:19:10.395378Z",
     "iopub.status.busy": "2023-08-20T13:19:10.395005Z",
     "iopub.status.idle": "2023-08-20T13:19:10.412668Z",
     "shell.execute_reply": "2023-08-20T13:19:10.411599Z"
    },
    "papermill": {
     "duration": 0.048768,
     "end_time": "2023-08-20T13:19:10.415147",
     "exception": false,
     "start_time": "2023-08-20T13:19:10.366379",
     "status": "completed"
    },
    "tags": []
   },
   "outputs": [
    {
     "data": {
      "text/html": [
       "<div>\n",
       "<style scoped>\n",
       "    .dataframe tbody tr th:only-of-type {\n",
       "        vertical-align: middle;\n",
       "    }\n",
       "\n",
       "    .dataframe tbody tr th {\n",
       "        vertical-align: top;\n",
       "    }\n",
       "\n",
       "    .dataframe thead th {\n",
       "        text-align: right;\n",
       "    }\n",
       "</style>\n",
       "<table border=\"1\" class=\"dataframe\">\n",
       "  <thead>\n",
       "    <tr style=\"text-align: right;\">\n",
       "      <th></th>\n",
       "      <th>Grant.Application.ID</th>\n",
       "      <th>Grant.Status</th>\n",
       "      <th>Sponsor.Code</th>\n",
       "      <th>Grant.Category.Code</th>\n",
       "      <th>Contract.Value.Band...see.note.A</th>\n",
       "      <th>Start.date</th>\n",
       "    </tr>\n",
       "  </thead>\n",
       "  <tbody>\n",
       "    <tr>\n",
       "      <th>0</th>\n",
       "      <td>1</td>\n",
       "      <td>1</td>\n",
       "      <td>NaN</td>\n",
       "      <td>NaN</td>\n",
       "      <td>A</td>\n",
       "      <td>8/11/05</td>\n",
       "    </tr>\n",
       "    <tr>\n",
       "      <th>1</th>\n",
       "      <td>2</td>\n",
       "      <td>1</td>\n",
       "      <td>2B</td>\n",
       "      <td>10A</td>\n",
       "      <td>B</td>\n",
       "      <td>11/11/05</td>\n",
       "    </tr>\n",
       "    <tr>\n",
       "      <th>2</th>\n",
       "      <td>3</td>\n",
       "      <td>1</td>\n",
       "      <td>29A</td>\n",
       "      <td>10B</td>\n",
       "      <td>A</td>\n",
       "      <td>14/11/05</td>\n",
       "    </tr>\n",
       "    <tr>\n",
       "      <th>3</th>\n",
       "      <td>4</td>\n",
       "      <td>1</td>\n",
       "      <td>40D</td>\n",
       "      <td>10B</td>\n",
       "      <td>C</td>\n",
       "      <td>15/11/05</td>\n",
       "    </tr>\n",
       "    <tr>\n",
       "      <th>4</th>\n",
       "      <td>5</td>\n",
       "      <td>0</td>\n",
       "      <td>59C</td>\n",
       "      <td>10A</td>\n",
       "      <td>A</td>\n",
       "      <td>16/11/05</td>\n",
       "    </tr>\n",
       "    <tr>\n",
       "      <th>...</th>\n",
       "      <td>...</td>\n",
       "      <td>...</td>\n",
       "      <td>...</td>\n",
       "      <td>...</td>\n",
       "      <td>...</td>\n",
       "      <td>...</td>\n",
       "    </tr>\n",
       "    <tr>\n",
       "      <th>8703</th>\n",
       "      <td>8704</td>\n",
       "      <td>1</td>\n",
       "      <td>21A</td>\n",
       "      <td>50A</td>\n",
       "      <td>A</td>\n",
       "      <td>23/12/08</td>\n",
       "    </tr>\n",
       "    <tr>\n",
       "      <th>8704</th>\n",
       "      <td>8705</td>\n",
       "      <td>1</td>\n",
       "      <td>21A</td>\n",
       "      <td>50A</td>\n",
       "      <td>A</td>\n",
       "      <td>23/12/08</td>\n",
       "    </tr>\n",
       "    <tr>\n",
       "      <th>8705</th>\n",
       "      <td>8706</td>\n",
       "      <td>0</td>\n",
       "      <td>137A</td>\n",
       "      <td>30B</td>\n",
       "      <td>NaN</td>\n",
       "      <td>24/12/08</td>\n",
       "    </tr>\n",
       "    <tr>\n",
       "      <th>8706</th>\n",
       "      <td>8707</td>\n",
       "      <td>1</td>\n",
       "      <td>21A</td>\n",
       "      <td>50A</td>\n",
       "      <td>A</td>\n",
       "      <td>24/12/08</td>\n",
       "    </tr>\n",
       "    <tr>\n",
       "      <th>8707</th>\n",
       "      <td>8708</td>\n",
       "      <td>1</td>\n",
       "      <td>21A</td>\n",
       "      <td>50A</td>\n",
       "      <td>A</td>\n",
       "      <td>24/12/08</td>\n",
       "    </tr>\n",
       "  </tbody>\n",
       "</table>\n",
       "<p>8708 rows × 6 columns</p>\n",
       "</div>"
      ],
      "text/plain": [
       "      Grant.Application.ID  Grant.Status Sponsor.Code Grant.Category.Code  \\\n",
       "0                        1             1          NaN                 NaN   \n",
       "1                        2             1           2B                 10A   \n",
       "2                        3             1          29A                 10B   \n",
       "3                        4             1          40D                 10B   \n",
       "4                        5             0          59C                 10A   \n",
       "...                    ...           ...          ...                 ...   \n",
       "8703                  8704             1          21A                 50A   \n",
       "8704                  8705             1          21A                 50A   \n",
       "8705                  8706             0         137A                 30B   \n",
       "8706                  8707             1          21A                 50A   \n",
       "8707                  8708             1          21A                 50A   \n",
       "\n",
       "     Contract.Value.Band...see.note.A Start.date  \n",
       "0                                  A     8/11/05  \n",
       "1                                  B    11/11/05  \n",
       "2                                  A    14/11/05  \n",
       "3                                  C    15/11/05  \n",
       "4                                  A    16/11/05  \n",
       "...                               ...        ...  \n",
       "8703                               A    23/12/08  \n",
       "8704                               A    23/12/08  \n",
       "8705                              NaN   24/12/08  \n",
       "8706                               A    24/12/08  \n",
       "8707                               A    24/12/08  \n",
       "\n",
       "[8708 rows x 6 columns]"
      ]
     },
     "execution_count": 45,
     "metadata": {},
     "output_type": "execute_result"
    }
   ],
   "source": [
    "data.iloc[:,:6]"
   ]
  },
  {
   "cell_type": "code",
   "execution_count": 46,
   "id": "f06a121d",
   "metadata": {
    "execution": {
     "iopub.execute_input": "2023-08-20T13:19:10.472128Z",
     "iopub.status.busy": "2023-08-20T13:19:10.471361Z",
     "iopub.status.idle": "2023-08-20T13:19:10.503267Z",
     "shell.execute_reply": "2023-08-20T13:19:10.502479Z"
    },
    "papermill": {
     "duration": 0.062692,
     "end_time": "2023-08-20T13:19:10.505398",
     "exception": false,
     "start_time": "2023-08-20T13:19:10.442706",
     "status": "completed"
    },
    "tags": []
   },
   "outputs": [
    {
     "data": {
      "text/html": [
       "<div>\n",
       "<style scoped>\n",
       "    .dataframe tbody tr th:only-of-type {\n",
       "        vertical-align: middle;\n",
       "    }\n",
       "\n",
       "    .dataframe tbody tr th {\n",
       "        vertical-align: top;\n",
       "    }\n",
       "\n",
       "    .dataframe thead th {\n",
       "        text-align: right;\n",
       "    }\n",
       "</style>\n",
       "<table border=\"1\" class=\"dataframe\">\n",
       "  <thead>\n",
       "    <tr style=\"text-align: right;\">\n",
       "      <th></th>\n",
       "      <th>Grant.Application.ID</th>\n",
       "      <th>Grant.Status</th>\n",
       "      <th>Sponsor.Code</th>\n",
       "      <th>Grant.Category.Code</th>\n",
       "      <th>Contract.Value.Band...see.note.A</th>\n",
       "      <th>Start.date</th>\n",
       "      <th>RFCD_mean</th>\n",
       "      <th>SEO_mean</th>\n",
       "      <th>max_year_birth</th>\n",
       "      <th>uniyear_min</th>\n",
       "      <th>min_success</th>\n",
       "      <th>total_success</th>\n",
       "      <th>min_unsuccess</th>\n",
       "      <th>total_unsuccess</th>\n",
       "      <th>total_Astar_papers</th>\n",
       "      <th>total_A</th>\n",
       "      <th>total_B</th>\n",
       "      <th>total_C</th>\n",
       "      <th>has_phd</th>\n",
       "    </tr>\n",
       "  </thead>\n",
       "  <tbody>\n",
       "    <tr>\n",
       "      <th>0</th>\n",
       "      <td>1</td>\n",
       "      <td>1</td>\n",
       "      <td>NaN</td>\n",
       "      <td>NaN</td>\n",
       "      <td>A</td>\n",
       "      <td>8/11/05</td>\n",
       "      <td>0.2</td>\n",
       "      <td>0.2</td>\n",
       "      <td>1965.0</td>\n",
       "      <td>1.0</td>\n",
       "      <td>0.0</td>\n",
       "      <td>0.0</td>\n",
       "      <td>0.0</td>\n",
       "      <td>0.0</td>\n",
       "      <td>4.0</td>\n",
       "      <td>2.0</td>\n",
       "      <td>0.0</td>\n",
       "      <td>0.0</td>\n",
       "      <td>0</td>\n",
       "    </tr>\n",
       "    <tr>\n",
       "      <th>1</th>\n",
       "      <td>2</td>\n",
       "      <td>1</td>\n",
       "      <td>2B</td>\n",
       "      <td>10A</td>\n",
       "      <td>B</td>\n",
       "      <td>11/11/05</td>\n",
       "      <td>0.2</td>\n",
       "      <td>0.2</td>\n",
       "      <td>1960.0</td>\n",
       "      <td>5.0</td>\n",
       "      <td>0.0</td>\n",
       "      <td>0.0</td>\n",
       "      <td>0.0</td>\n",
       "      <td>0.0</td>\n",
       "      <td>6.0</td>\n",
       "      <td>12.0</td>\n",
       "      <td>2.0</td>\n",
       "      <td>2.0</td>\n",
       "      <td>1</td>\n",
       "    </tr>\n",
       "    <tr>\n",
       "      <th>2</th>\n",
       "      <td>3</td>\n",
       "      <td>1</td>\n",
       "      <td>29A</td>\n",
       "      <td>10B</td>\n",
       "      <td>A</td>\n",
       "      <td>14/11/05</td>\n",
       "      <td>0.2</td>\n",
       "      <td>0.2</td>\n",
       "      <td>1955.0</td>\n",
       "      <td>1.0</td>\n",
       "      <td>0.0</td>\n",
       "      <td>0.0</td>\n",
       "      <td>0.0</td>\n",
       "      <td>0.0</td>\n",
       "      <td>7.0</td>\n",
       "      <td>20.0</td>\n",
       "      <td>20.0</td>\n",
       "      <td>7.0</td>\n",
       "      <td>2</td>\n",
       "    </tr>\n",
       "    <tr>\n",
       "      <th>3</th>\n",
       "      <td>4</td>\n",
       "      <td>1</td>\n",
       "      <td>40D</td>\n",
       "      <td>10B</td>\n",
       "      <td>C</td>\n",
       "      <td>15/11/05</td>\n",
       "      <td>0.2</td>\n",
       "      <td>0.2</td>\n",
       "      <td>1975.0</td>\n",
       "      <td>2.0</td>\n",
       "      <td>0.0</td>\n",
       "      <td>0.0</td>\n",
       "      <td>0.0</td>\n",
       "      <td>0.0</td>\n",
       "      <td>0.0</td>\n",
       "      <td>3.0</td>\n",
       "      <td>13.0</td>\n",
       "      <td>3.0</td>\n",
       "      <td>2</td>\n",
       "    </tr>\n",
       "    <tr>\n",
       "      <th>4</th>\n",
       "      <td>5</td>\n",
       "      <td>0</td>\n",
       "      <td>59C</td>\n",
       "      <td>10A</td>\n",
       "      <td>A</td>\n",
       "      <td>16/11/05</td>\n",
       "      <td>0.2</td>\n",
       "      <td>0.2</td>\n",
       "      <td>1965.0</td>\n",
       "      <td>3.0</td>\n",
       "      <td>0.0</td>\n",
       "      <td>0.0</td>\n",
       "      <td>0.0</td>\n",
       "      <td>0.0</td>\n",
       "      <td>3.0</td>\n",
       "      <td>0.0</td>\n",
       "      <td>1.0</td>\n",
       "      <td>0.0</td>\n",
       "      <td>1</td>\n",
       "    </tr>\n",
       "  </tbody>\n",
       "</table>\n",
       "</div>"
      ],
      "text/plain": [
       "   Grant.Application.ID  Grant.Status Sponsor.Code Grant.Category.Code  \\\n",
       "0                     1             1          NaN                 NaN   \n",
       "1                     2             1           2B                 10A   \n",
       "2                     3             1          29A                 10B   \n",
       "3                     4             1          40D                 10B   \n",
       "4                     5             0          59C                 10A   \n",
       "\n",
       "  Contract.Value.Band...see.note.A Start.date  RFCD_mean  SEO_mean  \\\n",
       "0                               A     8/11/05        0.2       0.2   \n",
       "1                               B    11/11/05        0.2       0.2   \n",
       "2                               A    14/11/05        0.2       0.2   \n",
       "3                               C    15/11/05        0.2       0.2   \n",
       "4                               A    16/11/05        0.2       0.2   \n",
       "\n",
       "   max_year_birth  uniyear_min  min_success  total_success  min_unsuccess  \\\n",
       "0          1965.0          1.0          0.0            0.0            0.0   \n",
       "1          1960.0          5.0          0.0            0.0            0.0   \n",
       "2          1955.0          1.0          0.0            0.0            0.0   \n",
       "3          1975.0          2.0          0.0            0.0            0.0   \n",
       "4          1965.0          3.0          0.0            0.0            0.0   \n",
       "\n",
       "   total_unsuccess  total_Astar_papers  total_A  total_B  total_C  has_phd  \n",
       "0              0.0                 4.0      2.0      0.0      0.0        0  \n",
       "1              0.0                 6.0     12.0      2.0      2.0        1  \n",
       "2              0.0                 7.0     20.0     20.0      7.0        2  \n",
       "3              0.0                 0.0      3.0     13.0      3.0        2  \n",
       "4              0.0                 3.0      0.0      1.0      0.0        1  "
      ]
     },
     "execution_count": 46,
     "metadata": {},
     "output_type": "execute_result"
    }
   ],
   "source": [
    "features_df = pd.DataFrame.from_dict(dict({'RFCD_mean':rfcd_pct_mean,'SEO_mean':seo_pct_mean,'max_year_birth':max_year_birth,\n",
    "                           'uniyear_min':uniyear_min,'min_success':min_success,'total_success':total_success,\n",
    "                           'min_unsuccess':min_unsuccess,'total_unsuccess':total_unsuccess,'total_Astar_papers':total_Astar_papers,\n",
    "                           'total_A':total_A,'total_B':total_B,'total_C':total_C,'has_phd':has_phd}))\n",
    "final_df = pd.concat([data.iloc[:,:6],features_df],axis=1)\n",
    "final_df.head()"
   ]
  },
  {
   "cell_type": "code",
   "execution_count": 47,
   "id": "5eee4498",
   "metadata": {
    "execution": {
     "iopub.execute_input": "2023-08-20T13:19:10.563769Z",
     "iopub.status.busy": "2023-08-20T13:19:10.563091Z",
     "iopub.status.idle": "2023-08-20T13:19:10.582389Z",
     "shell.execute_reply": "2023-08-20T13:19:10.581568Z"
    },
    "papermill": {
     "duration": 0.050721,
     "end_time": "2023-08-20T13:19:10.584516",
     "exception": false,
     "start_time": "2023-08-20T13:19:10.533795",
     "status": "completed"
    },
    "tags": []
   },
   "outputs": [
    {
     "data": {
      "text/plain": [
       "Grant.Application.ID                   0\n",
       "Grant.Status                           0\n",
       "Sponsor.Code                         912\n",
       "Grant.Category.Code                  912\n",
       "Contract.Value.Band...see.note.A    3563\n",
       "Start.date                             0\n",
       "RFCD_mean                            634\n",
       "SEO_mean                             664\n",
       "max_year_birth                       470\n",
       "uniyear_min                         1056\n",
       "min_success                          468\n",
       "total_success                          0\n",
       "min_unsuccess                        468\n",
       "total_unsuccess                        0\n",
       "total_Astar_papers                     0\n",
       "total_A                                0\n",
       "total_B                                0\n",
       "total_C                                0\n",
       "has_phd                                0\n",
       "dtype: int64"
      ]
     },
     "execution_count": 47,
     "metadata": {},
     "output_type": "execute_result"
    }
   ],
   "source": [
    "final_df.isna().sum()"
   ]
  },
  {
   "cell_type": "code",
   "execution_count": 48,
   "id": "93b4ff43",
   "metadata": {
    "execution": {
     "iopub.execute_input": "2023-08-20T13:19:10.642836Z",
     "iopub.status.busy": "2023-08-20T13:19:10.642224Z",
     "iopub.status.idle": "2023-08-20T13:19:10.670700Z",
     "shell.execute_reply": "2023-08-20T13:19:10.669459Z"
    },
    "papermill": {
     "duration": 0.060476,
     "end_time": "2023-08-20T13:19:10.673218",
     "exception": false,
     "start_time": "2023-08-20T13:19:10.612742",
     "status": "completed"
    },
    "tags": []
   },
   "outputs": [
    {
     "name": "stdout",
     "output_type": "stream",
     "text": [
      "<class 'pandas.core.frame.DataFrame'>\n",
      "RangeIndex: 8708 entries, 0 to 8707\n",
      "Data columns (total 19 columns):\n",
      " #   Column                            Non-Null Count  Dtype  \n",
      "---  ------                            --------------  -----  \n",
      " 0   Grant.Application.ID              8708 non-null   int64  \n",
      " 1   Grant.Status                      8708 non-null   int64  \n",
      " 2   Sponsor.Code                      7796 non-null   object \n",
      " 3   Grant.Category.Code               7796 non-null   object \n",
      " 4   Contract.Value.Band...see.note.A  5145 non-null   object \n",
      " 5   Start.date                        8708 non-null   object \n",
      " 6   RFCD_mean                         8074 non-null   float64\n",
      " 7   SEO_mean                          8044 non-null   float64\n",
      " 8   max_year_birth                    8238 non-null   float64\n",
      " 9   uniyear_min                       7652 non-null   float64\n",
      " 10  min_success                       8240 non-null   float64\n",
      " 11  total_success                     8708 non-null   float64\n",
      " 12  min_unsuccess                     8240 non-null   float64\n",
      " 13  total_unsuccess                   8708 non-null   float64\n",
      " 14  total_Astar_papers                8708 non-null   float64\n",
      " 15  total_A                           8708 non-null   float64\n",
      " 16  total_B                           8708 non-null   float64\n",
      " 17  total_C                           8708 non-null   float64\n",
      " 18  has_phd                           8708 non-null   int64  \n",
      "dtypes: float64(12), int64(3), object(4)\n",
      "memory usage: 1.3+ MB\n"
     ]
    }
   ],
   "source": [
    "final_df.info()"
   ]
  },
  {
   "cell_type": "code",
   "execution_count": 49,
   "id": "b399aecf",
   "metadata": {
    "execution": {
     "iopub.execute_input": "2023-08-20T13:19:10.731640Z",
     "iopub.status.busy": "2023-08-20T13:19:10.731026Z",
     "iopub.status.idle": "2023-08-20T13:19:10.801089Z",
     "shell.execute_reply": "2023-08-20T13:19:10.799888Z"
    },
    "papermill": {
     "duration": 0.10238,
     "end_time": "2023-08-20T13:19:10.803831",
     "exception": false,
     "start_time": "2023-08-20T13:19:10.701451",
     "status": "completed"
    },
    "tags": []
   },
   "outputs": [],
   "source": [
    "from datetime import datetime\n",
    "\n",
    "final_df['Start.date'] = pd.to_datetime(final_df['Start.date'])"
   ]
  },
  {
   "cell_type": "code",
   "execution_count": 50,
   "id": "3a31e0bf",
   "metadata": {
    "execution": {
     "iopub.execute_input": "2023-08-20T13:19:10.862604Z",
     "iopub.status.busy": "2023-08-20T13:19:10.861939Z",
     "iopub.status.idle": "2023-08-20T13:19:10.884513Z",
     "shell.execute_reply": "2023-08-20T13:19:10.883273Z"
    },
    "papermill": {
     "duration": 0.054715,
     "end_time": "2023-08-20T13:19:10.886970",
     "exception": false,
     "start_time": "2023-08-20T13:19:10.832255",
     "status": "completed"
    },
    "tags": []
   },
   "outputs": [
    {
     "name": "stdout",
     "output_type": "stream",
     "text": [
      "<class 'pandas.core.frame.DataFrame'>\n",
      "RangeIndex: 8708 entries, 0 to 8707\n",
      "Data columns (total 19 columns):\n",
      " #   Column                            Non-Null Count  Dtype         \n",
      "---  ------                            --------------  -----         \n",
      " 0   Grant.Application.ID              8708 non-null   int64         \n",
      " 1   Grant.Status                      8708 non-null   int64         \n",
      " 2   Sponsor.Code                      7796 non-null   object        \n",
      " 3   Grant.Category.Code               7796 non-null   object        \n",
      " 4   Contract.Value.Band...see.note.A  5145 non-null   object        \n",
      " 5   Start.date                        8708 non-null   datetime64[ns]\n",
      " 6   RFCD_mean                         8074 non-null   float64       \n",
      " 7   SEO_mean                          8044 non-null   float64       \n",
      " 8   max_year_birth                    8238 non-null   float64       \n",
      " 9   uniyear_min                       7652 non-null   float64       \n",
      " 10  min_success                       8240 non-null   float64       \n",
      " 11  total_success                     8708 non-null   float64       \n",
      " 12  min_unsuccess                     8240 non-null   float64       \n",
      " 13  total_unsuccess                   8708 non-null   float64       \n",
      " 14  total_Astar_papers                8708 non-null   float64       \n",
      " 15  total_A                           8708 non-null   float64       \n",
      " 16  total_B                           8708 non-null   float64       \n",
      " 17  total_C                           8708 non-null   float64       \n",
      " 18  has_phd                           8708 non-null   int64         \n",
      "dtypes: datetime64[ns](1), float64(12), int64(3), object(3)\n",
      "memory usage: 1.3+ MB\n"
     ]
    }
   ],
   "source": [
    "final_df.info()"
   ]
  },
  {
   "cell_type": "code",
   "execution_count": 51,
   "id": "92054373",
   "metadata": {
    "execution": {
     "iopub.execute_input": "2023-08-20T13:19:10.945788Z",
     "iopub.status.busy": "2023-08-20T13:19:10.945086Z",
     "iopub.status.idle": "2023-08-20T13:19:10.954288Z",
     "shell.execute_reply": "2023-08-20T13:19:10.953200Z"
    },
    "papermill": {
     "duration": 0.041094,
     "end_time": "2023-08-20T13:19:10.956499",
     "exception": false,
     "start_time": "2023-08-20T13:19:10.915405",
     "status": "completed"
    },
    "tags": []
   },
   "outputs": [],
   "source": [
    "final_df['Month'] = final_df['Start.date'].dt.month\n",
    "final_df.drop('Start.date',axis=1,inplace=True)"
   ]
  },
  {
   "cell_type": "code",
   "execution_count": 52,
   "id": "5c75f971",
   "metadata": {
    "execution": {
     "iopub.execute_input": "2023-08-20T13:19:11.015323Z",
     "iopub.status.busy": "2023-08-20T13:19:11.014877Z",
     "iopub.status.idle": "2023-08-20T13:19:11.038951Z",
     "shell.execute_reply": "2023-08-20T13:19:11.037323Z"
    },
    "papermill": {
     "duration": 0.05628,
     "end_time": "2023-08-20T13:19:11.041298",
     "exception": false,
     "start_time": "2023-08-20T13:19:10.985018",
     "status": "completed"
    },
    "tags": []
   },
   "outputs": [
    {
     "name": "stdout",
     "output_type": "stream",
     "text": [
      "<class 'pandas.core.frame.DataFrame'>\n",
      "RangeIndex: 8708 entries, 0 to 8707\n",
      "Data columns (total 19 columns):\n",
      " #   Column                            Non-Null Count  Dtype  \n",
      "---  ------                            --------------  -----  \n",
      " 0   Grant.Application.ID              8708 non-null   int64  \n",
      " 1   Grant.Status                      8708 non-null   int64  \n",
      " 2   Sponsor.Code                      7796 non-null   object \n",
      " 3   Grant.Category.Code               7796 non-null   object \n",
      " 4   Contract.Value.Band...see.note.A  5145 non-null   object \n",
      " 5   RFCD_mean                         8074 non-null   float64\n",
      " 6   SEO_mean                          8044 non-null   float64\n",
      " 7   max_year_birth                    8238 non-null   float64\n",
      " 8   uniyear_min                       7652 non-null   float64\n",
      " 9   min_success                       8240 non-null   float64\n",
      " 10  total_success                     8708 non-null   float64\n",
      " 11  min_unsuccess                     8240 non-null   float64\n",
      " 12  total_unsuccess                   8708 non-null   float64\n",
      " 13  total_Astar_papers                8708 non-null   float64\n",
      " 14  total_A                           8708 non-null   float64\n",
      " 15  total_B                           8708 non-null   float64\n",
      " 16  total_C                           8708 non-null   float64\n",
      " 17  has_phd                           8708 non-null   int64  \n",
      " 18  Month                             8708 non-null   int64  \n",
      "dtypes: float64(12), int64(4), object(3)\n",
      "memory usage: 1.3+ MB\n"
     ]
    }
   ],
   "source": [
    "final_df.info()"
   ]
  },
  {
   "cell_type": "code",
   "execution_count": 53,
   "id": "5f75b27c",
   "metadata": {
    "execution": {
     "iopub.execute_input": "2023-08-20T13:19:11.100871Z",
     "iopub.status.busy": "2023-08-20T13:19:11.100440Z",
     "iopub.status.idle": "2023-08-20T13:19:11.107783Z",
     "shell.execute_reply": "2023-08-20T13:19:11.106667Z"
    },
    "papermill": {
     "duration": 0.039511,
     "end_time": "2023-08-20T13:19:11.109944",
     "exception": false,
     "start_time": "2023-08-20T13:19:11.070433",
     "status": "completed"
    },
    "tags": []
   },
   "outputs": [
    {
     "data": {
      "text/plain": [
       "['Sponsor.Code', 'Grant.Category.Code', 'Contract.Value.Band...see.note.A']"
      ]
     },
     "execution_count": 53,
     "metadata": {},
     "output_type": "execute_result"
    }
   ],
   "source": [
    "obj_cols = [col for col in final_df.columns if final_df[col].dtypes=='O']\n",
    "obj_cols"
   ]
  },
  {
   "cell_type": "code",
   "execution_count": 54,
   "id": "0f80c25c",
   "metadata": {
    "execution": {
     "iopub.execute_input": "2023-08-20T13:19:11.168621Z",
     "iopub.status.busy": "2023-08-20T13:19:11.168209Z",
     "iopub.status.idle": "2023-08-20T13:19:11.204916Z",
     "shell.execute_reply": "2023-08-20T13:19:11.203842Z"
    },
    "papermill": {
     "duration": 0.068877,
     "end_time": "2023-08-20T13:19:11.207402",
     "exception": false,
     "start_time": "2023-08-20T13:19:11.138525",
     "status": "completed"
    },
    "tags": []
   },
   "outputs": [
    {
     "data": {
      "text/html": [
       "<div>\n",
       "<style scoped>\n",
       "    .dataframe tbody tr th:only-of-type {\n",
       "        vertical-align: middle;\n",
       "    }\n",
       "\n",
       "    .dataframe tbody tr th {\n",
       "        vertical-align: top;\n",
       "    }\n",
       "\n",
       "    .dataframe thead th {\n",
       "        text-align: right;\n",
       "    }\n",
       "</style>\n",
       "<table border=\"1\" class=\"dataframe\">\n",
       "  <thead>\n",
       "    <tr style=\"text-align: right;\">\n",
       "      <th></th>\n",
       "      <th>Grant.Application.ID</th>\n",
       "      <th>Grant.Status</th>\n",
       "      <th>Sponsor.Code</th>\n",
       "      <th>Grant.Category.Code</th>\n",
       "      <th>Contract.Value.Band...see.note.A</th>\n",
       "      <th>RFCD_mean</th>\n",
       "      <th>SEO_mean</th>\n",
       "      <th>max_year_birth</th>\n",
       "      <th>uniyear_min</th>\n",
       "      <th>min_success</th>\n",
       "      <th>total_success</th>\n",
       "      <th>min_unsuccess</th>\n",
       "      <th>total_unsuccess</th>\n",
       "      <th>total_Astar_papers</th>\n",
       "      <th>total_A</th>\n",
       "      <th>total_B</th>\n",
       "      <th>total_C</th>\n",
       "      <th>has_phd</th>\n",
       "      <th>Month</th>\n",
       "    </tr>\n",
       "  </thead>\n",
       "  <tbody>\n",
       "    <tr>\n",
       "      <th>0</th>\n",
       "      <td>1</td>\n",
       "      <td>1</td>\n",
       "      <td>-1</td>\n",
       "      <td>-1</td>\n",
       "      <td>0</td>\n",
       "      <td>0.2</td>\n",
       "      <td>0.2</td>\n",
       "      <td>1965.0</td>\n",
       "      <td>1.0</td>\n",
       "      <td>0.0</td>\n",
       "      <td>0.0</td>\n",
       "      <td>0.0</td>\n",
       "      <td>0.0</td>\n",
       "      <td>4.0</td>\n",
       "      <td>2.0</td>\n",
       "      <td>0.0</td>\n",
       "      <td>0.0</td>\n",
       "      <td>0</td>\n",
       "      <td>8</td>\n",
       "    </tr>\n",
       "    <tr>\n",
       "      <th>1</th>\n",
       "      <td>2</td>\n",
       "      <td>1</td>\n",
       "      <td>187</td>\n",
       "      <td>0</td>\n",
       "      <td>1</td>\n",
       "      <td>0.2</td>\n",
       "      <td>0.2</td>\n",
       "      <td>1960.0</td>\n",
       "      <td>5.0</td>\n",
       "      <td>0.0</td>\n",
       "      <td>0.0</td>\n",
       "      <td>0.0</td>\n",
       "      <td>0.0</td>\n",
       "      <td>6.0</td>\n",
       "      <td>12.0</td>\n",
       "      <td>2.0</td>\n",
       "      <td>2.0</td>\n",
       "      <td>1</td>\n",
       "      <td>11</td>\n",
       "    </tr>\n",
       "    <tr>\n",
       "      <th>2</th>\n",
       "      <td>3</td>\n",
       "      <td>1</td>\n",
       "      <td>186</td>\n",
       "      <td>1</td>\n",
       "      <td>0</td>\n",
       "      <td>0.2</td>\n",
       "      <td>0.2</td>\n",
       "      <td>1955.0</td>\n",
       "      <td>1.0</td>\n",
       "      <td>0.0</td>\n",
       "      <td>0.0</td>\n",
       "      <td>0.0</td>\n",
       "      <td>0.0</td>\n",
       "      <td>7.0</td>\n",
       "      <td>20.0</td>\n",
       "      <td>20.0</td>\n",
       "      <td>7.0</td>\n",
       "      <td>2</td>\n",
       "      <td>11</td>\n",
       "    </tr>\n",
       "    <tr>\n",
       "      <th>3</th>\n",
       "      <td>4</td>\n",
       "      <td>1</td>\n",
       "      <td>236</td>\n",
       "      <td>1</td>\n",
       "      <td>2</td>\n",
       "      <td>0.2</td>\n",
       "      <td>0.2</td>\n",
       "      <td>1975.0</td>\n",
       "      <td>2.0</td>\n",
       "      <td>0.0</td>\n",
       "      <td>0.0</td>\n",
       "      <td>0.0</td>\n",
       "      <td>0.0</td>\n",
       "      <td>0.0</td>\n",
       "      <td>3.0</td>\n",
       "      <td>13.0</td>\n",
       "      <td>3.0</td>\n",
       "      <td>2</td>\n",
       "      <td>11</td>\n",
       "    </tr>\n",
       "    <tr>\n",
       "      <th>4</th>\n",
       "      <td>5</td>\n",
       "      <td>0</td>\n",
       "      <td>263</td>\n",
       "      <td>0</td>\n",
       "      <td>0</td>\n",
       "      <td>0.2</td>\n",
       "      <td>0.2</td>\n",
       "      <td>1965.0</td>\n",
       "      <td>3.0</td>\n",
       "      <td>0.0</td>\n",
       "      <td>0.0</td>\n",
       "      <td>0.0</td>\n",
       "      <td>0.0</td>\n",
       "      <td>3.0</td>\n",
       "      <td>0.0</td>\n",
       "      <td>1.0</td>\n",
       "      <td>0.0</td>\n",
       "      <td>1</td>\n",
       "      <td>11</td>\n",
       "    </tr>\n",
       "  </tbody>\n",
       "</table>\n",
       "</div>"
      ],
      "text/plain": [
       "   Grant.Application.ID  Grant.Status  Sponsor.Code  Grant.Category.Code  \\\n",
       "0                     1             1            -1                   -1   \n",
       "1                     2             1           187                    0   \n",
       "2                     3             1           186                    1   \n",
       "3                     4             1           236                    1   \n",
       "4                     5             0           263                    0   \n",
       "\n",
       "   Contract.Value.Band...see.note.A  RFCD_mean  SEO_mean  max_year_birth  \\\n",
       "0                                 0        0.2       0.2          1965.0   \n",
       "1                                 1        0.2       0.2          1960.0   \n",
       "2                                 0        0.2       0.2          1955.0   \n",
       "3                                 2        0.2       0.2          1975.0   \n",
       "4                                 0        0.2       0.2          1965.0   \n",
       "\n",
       "   uniyear_min  min_success  total_success  min_unsuccess  total_unsuccess  \\\n",
       "0          1.0          0.0            0.0            0.0              0.0   \n",
       "1          5.0          0.0            0.0            0.0              0.0   \n",
       "2          1.0          0.0            0.0            0.0              0.0   \n",
       "3          2.0          0.0            0.0            0.0              0.0   \n",
       "4          3.0          0.0            0.0            0.0              0.0   \n",
       "\n",
       "   total_Astar_papers  total_A  total_B  total_C  has_phd  Month  \n",
       "0                 4.0      2.0      0.0      0.0        0      8  \n",
       "1                 6.0     12.0      2.0      2.0        1     11  \n",
       "2                 7.0     20.0     20.0      7.0        2     11  \n",
       "3                 0.0      3.0     13.0      3.0        2     11  \n",
       "4                 3.0      0.0      1.0      0.0        1     11  "
      ]
     },
     "execution_count": 54,
     "metadata": {},
     "output_type": "execute_result"
    }
   ],
   "source": [
    "for col in obj_cols:\n",
    "    final_df[col] = final_df[col].astype('category')\n",
    "    final_df[col] = final_df[col].cat.codes\n",
    "final_df.head()"
   ]
  },
  {
   "cell_type": "code",
   "execution_count": 55,
   "id": "622ce9a0",
   "metadata": {
    "execution": {
     "iopub.execute_input": "2023-08-20T13:19:11.268082Z",
     "iopub.status.busy": "2023-08-20T13:19:11.267296Z",
     "iopub.status.idle": "2023-08-20T13:19:11.282655Z",
     "shell.execute_reply": "2023-08-20T13:19:11.281249Z"
    },
    "papermill": {
     "duration": 0.047628,
     "end_time": "2023-08-20T13:19:11.284952",
     "exception": false,
     "start_time": "2023-08-20T13:19:11.237324",
     "status": "completed"
    },
    "tags": []
   },
   "outputs": [
    {
     "name": "stdout",
     "output_type": "stream",
     "text": [
      "<class 'pandas.core.frame.DataFrame'>\n",
      "RangeIndex: 8708 entries, 0 to 8707\n",
      "Data columns (total 19 columns):\n",
      " #   Column                            Non-Null Count  Dtype  \n",
      "---  ------                            --------------  -----  \n",
      " 0   Grant.Application.ID              8708 non-null   int64  \n",
      " 1   Grant.Status                      8708 non-null   int64  \n",
      " 2   Sponsor.Code                      8708 non-null   int16  \n",
      " 3   Grant.Category.Code               8708 non-null   int8   \n",
      " 4   Contract.Value.Band...see.note.A  8708 non-null   int8   \n",
      " 5   RFCD_mean                         8074 non-null   float64\n",
      " 6   SEO_mean                          8044 non-null   float64\n",
      " 7   max_year_birth                    8238 non-null   float64\n",
      " 8   uniyear_min                       7652 non-null   float64\n",
      " 9   min_success                       8240 non-null   float64\n",
      " 10  total_success                     8708 non-null   float64\n",
      " 11  min_unsuccess                     8240 non-null   float64\n",
      " 12  total_unsuccess                   8708 non-null   float64\n",
      " 13  total_Astar_papers                8708 non-null   float64\n",
      " 14  total_A                           8708 non-null   float64\n",
      " 15  total_B                           8708 non-null   float64\n",
      " 16  total_C                           8708 non-null   float64\n",
      " 17  has_phd                           8708 non-null   int64  \n",
      " 18  Month                             8708 non-null   int64  \n",
      "dtypes: float64(12), int16(1), int64(4), int8(2)\n",
      "memory usage: 1.1 MB\n"
     ]
    }
   ],
   "source": [
    "final_df.info()"
   ]
  },
  {
   "cell_type": "code",
   "execution_count": 56,
   "id": "7e07efeb",
   "metadata": {
    "execution": {
     "iopub.execute_input": "2023-08-20T13:19:11.344980Z",
     "iopub.status.busy": "2023-08-20T13:19:11.344538Z",
     "iopub.status.idle": "2023-08-20T13:19:11.355668Z",
     "shell.execute_reply": "2023-08-20T13:19:11.354578Z"
    },
    "papermill": {
     "duration": 0.043889,
     "end_time": "2023-08-20T13:19:11.358044",
     "exception": false,
     "start_time": "2023-08-20T13:19:11.314155",
     "status": "completed"
    },
    "tags": []
   },
   "outputs": [
    {
     "data": {
      "text/plain": [
       "Grant.Application.ID                0\n",
       "Grant.Status                        0\n",
       "Sponsor.Code                        0\n",
       "Grant.Category.Code                 0\n",
       "Contract.Value.Band...see.note.A    0\n",
       "RFCD_mean                           0\n",
       "SEO_mean                            0\n",
       "max_year_birth                      0\n",
       "uniyear_min                         0\n",
       "min_success                         0\n",
       "total_success                       0\n",
       "min_unsuccess                       0\n",
       "total_unsuccess                     0\n",
       "total_Astar_papers                  0\n",
       "total_A                             0\n",
       "total_B                             0\n",
       "total_C                             0\n",
       "has_phd                             0\n",
       "Month                               0\n",
       "dtype: int64"
      ]
     },
     "execution_count": 56,
     "metadata": {},
     "output_type": "execute_result"
    }
   ],
   "source": [
    "final_df.fillna(0,inplace=True)\n",
    "final_df.isna().sum()"
   ]
  },
  {
   "cell_type": "code",
   "execution_count": 57,
   "id": "dae25bc3",
   "metadata": {
    "execution": {
     "iopub.execute_input": "2023-08-20T13:19:11.418768Z",
     "iopub.status.busy": "2023-08-20T13:19:11.418392Z",
     "iopub.status.idle": "2023-08-20T13:19:11.426434Z",
     "shell.execute_reply": "2023-08-20T13:19:11.425394Z"
    },
    "papermill": {
     "duration": 0.041038,
     "end_time": "2023-08-20T13:19:11.428581",
     "exception": false,
     "start_time": "2023-08-20T13:19:11.387543",
     "status": "completed"
    },
    "tags": []
   },
   "outputs": [
    {
     "data": {
      "text/plain": [
       "0    4716\n",
       "1    3992\n",
       "Name: Grant.Status, dtype: int64"
      ]
     },
     "execution_count": 57,
     "metadata": {},
     "output_type": "execute_result"
    }
   ],
   "source": [
    "final_df['Grant.Status'].value_counts()"
   ]
  },
  {
   "cell_type": "code",
   "execution_count": 58,
   "id": "c646974a",
   "metadata": {
    "execution": {
     "iopub.execute_input": "2023-08-20T13:19:11.489075Z",
     "iopub.status.busy": "2023-08-20T13:19:11.488680Z",
     "iopub.status.idle": "2023-08-20T13:19:12.703295Z",
     "shell.execute_reply": "2023-08-20T13:19:12.702116Z"
    },
    "papermill": {
     "duration": 1.248282,
     "end_time": "2023-08-20T13:19:12.706162",
     "exception": false,
     "start_time": "2023-08-20T13:19:11.457880",
     "status": "completed"
    },
    "tags": []
   },
   "outputs": [
    {
     "name": "stderr",
     "output_type": "stream",
     "text": [
      "/opt/conda/lib/python3.10/site-packages/scipy/__init__.py:146: UserWarning: A NumPy version >=1.16.5 and <1.23.0 is required for this version of SciPy (detected version 1.23.5\n",
      "  warnings.warn(f\"A NumPy version >={np_minversion} and <{np_maxversion}\"\n"
     ]
    }
   ],
   "source": [
    "from sklearn.model_selection import train_test_split\n",
    "\n",
    "train_X, test_X, train_y, test_y = train_test_split(final_df.drop('Grant.Status',axis=1),final_df['Grant.Status'])"
   ]
  },
  {
   "cell_type": "code",
   "execution_count": 59,
   "id": "3295b31f",
   "metadata": {
    "execution": {
     "iopub.execute_input": "2023-08-20T13:19:12.767104Z",
     "iopub.status.busy": "2023-08-20T13:19:12.766677Z",
     "iopub.status.idle": "2023-08-20T13:19:14.283656Z",
     "shell.execute_reply": "2023-08-20T13:19:14.282513Z"
    },
    "papermill": {
     "duration": 1.550413,
     "end_time": "2023-08-20T13:19:14.286071",
     "exception": false,
     "start_time": "2023-08-20T13:19:12.735658",
     "status": "completed"
    },
    "tags": []
   },
   "outputs": [
    {
     "data": {
      "text/html": [
       "<style>#sk-container-id-1 {color: black;background-color: white;}#sk-container-id-1 pre{padding: 0;}#sk-container-id-1 div.sk-toggleable {background-color: white;}#sk-container-id-1 label.sk-toggleable__label {cursor: pointer;display: block;width: 100%;margin-bottom: 0;padding: 0.3em;box-sizing: border-box;text-align: center;}#sk-container-id-1 label.sk-toggleable__label-arrow:before {content: \"▸\";float: left;margin-right: 0.25em;color: #696969;}#sk-container-id-1 label.sk-toggleable__label-arrow:hover:before {color: black;}#sk-container-id-1 div.sk-estimator:hover label.sk-toggleable__label-arrow:before {color: black;}#sk-container-id-1 div.sk-toggleable__content {max-height: 0;max-width: 0;overflow: hidden;text-align: left;background-color: #f0f8ff;}#sk-container-id-1 div.sk-toggleable__content pre {margin: 0.2em;color: black;border-radius: 0.25em;background-color: #f0f8ff;}#sk-container-id-1 input.sk-toggleable__control:checked~div.sk-toggleable__content {max-height: 200px;max-width: 100%;overflow: auto;}#sk-container-id-1 input.sk-toggleable__control:checked~label.sk-toggleable__label-arrow:before {content: \"▾\";}#sk-container-id-1 div.sk-estimator input.sk-toggleable__control:checked~label.sk-toggleable__label {background-color: #d4ebff;}#sk-container-id-1 div.sk-label input.sk-toggleable__control:checked~label.sk-toggleable__label {background-color: #d4ebff;}#sk-container-id-1 input.sk-hidden--visually {border: 0;clip: rect(1px 1px 1px 1px);clip: rect(1px, 1px, 1px, 1px);height: 1px;margin: -1px;overflow: hidden;padding: 0;position: absolute;width: 1px;}#sk-container-id-1 div.sk-estimator {font-family: monospace;background-color: #f0f8ff;border: 1px dotted black;border-radius: 0.25em;box-sizing: border-box;margin-bottom: 0.5em;}#sk-container-id-1 div.sk-estimator:hover {background-color: #d4ebff;}#sk-container-id-1 div.sk-parallel-item::after {content: \"\";width: 100%;border-bottom: 1px solid gray;flex-grow: 1;}#sk-container-id-1 div.sk-label:hover label.sk-toggleable__label {background-color: #d4ebff;}#sk-container-id-1 div.sk-serial::before {content: \"\";position: absolute;border-left: 1px solid gray;box-sizing: border-box;top: 0;bottom: 0;left: 50%;z-index: 0;}#sk-container-id-1 div.sk-serial {display: flex;flex-direction: column;align-items: center;background-color: white;padding-right: 0.2em;padding-left: 0.2em;position: relative;}#sk-container-id-1 div.sk-item {position: relative;z-index: 1;}#sk-container-id-1 div.sk-parallel {display: flex;align-items: stretch;justify-content: center;background-color: white;position: relative;}#sk-container-id-1 div.sk-item::before, #sk-container-id-1 div.sk-parallel-item::before {content: \"\";position: absolute;border-left: 1px solid gray;box-sizing: border-box;top: 0;bottom: 0;left: 50%;z-index: -1;}#sk-container-id-1 div.sk-parallel-item {display: flex;flex-direction: column;z-index: 1;position: relative;background-color: white;}#sk-container-id-1 div.sk-parallel-item:first-child::after {align-self: flex-end;width: 50%;}#sk-container-id-1 div.sk-parallel-item:last-child::after {align-self: flex-start;width: 50%;}#sk-container-id-1 div.sk-parallel-item:only-child::after {width: 0;}#sk-container-id-1 div.sk-dashed-wrapped {border: 1px dashed gray;margin: 0 0.4em 0.5em 0.4em;box-sizing: border-box;padding-bottom: 0.4em;background-color: white;}#sk-container-id-1 div.sk-label label {font-family: monospace;font-weight: bold;display: inline-block;line-height: 1.2em;}#sk-container-id-1 div.sk-label-container {text-align: center;}#sk-container-id-1 div.sk-container {/* jupyter's `normalize.less` sets `[hidden] { display: none; }` but bootstrap.min.css set `[hidden] { display: none !important; }` so we also need the `!important` here to be able to override the default hidden behavior on the sphinx rendered scikit-learn.org. See: https://github.com/scikit-learn/scikit-learn/issues/21755 */display: inline-block !important;position: relative;}#sk-container-id-1 div.sk-text-repr-fallback {display: none;}</style><div id=\"sk-container-id-1\" class=\"sk-top-container\"><div class=\"sk-text-repr-fallback\"><pre>RandomForestClassifier()</pre><b>In a Jupyter environment, please rerun this cell to show the HTML representation or trust the notebook. <br />On GitHub, the HTML representation is unable to render, please try loading this page with nbviewer.org.</b></div><div class=\"sk-container\" hidden><div class=\"sk-item\"><div class=\"sk-estimator sk-toggleable\"><input class=\"sk-toggleable__control sk-hidden--visually\" id=\"sk-estimator-id-1\" type=\"checkbox\" checked><label for=\"sk-estimator-id-1\" class=\"sk-toggleable__label sk-toggleable__label-arrow\">RandomForestClassifier</label><div class=\"sk-toggleable__content\"><pre>RandomForestClassifier()</pre></div></div></div></div></div>"
      ],
      "text/plain": [
       "RandomForestClassifier()"
      ]
     },
     "execution_count": 59,
     "metadata": {},
     "output_type": "execute_result"
    }
   ],
   "source": [
    "from sklearn.ensemble import RandomForestClassifier\n",
    "\n",
    "model = RandomForestClassifier()\n",
    "\n",
    "model.fit(train_X,train_y)"
   ]
  },
  {
   "cell_type": "code",
   "execution_count": 60,
   "id": "af33e3dd",
   "metadata": {
    "execution": {
     "iopub.execute_input": "2023-08-20T13:19:14.348373Z",
     "iopub.status.busy": "2023-08-20T13:19:14.347984Z",
     "iopub.status.idle": "2023-08-20T13:19:14.413210Z",
     "shell.execute_reply": "2023-08-20T13:19:14.412288Z"
    },
    "papermill": {
     "duration": 0.098982,
     "end_time": "2023-08-20T13:19:14.415638",
     "exception": false,
     "start_time": "2023-08-20T13:19:14.316656",
     "status": "completed"
    },
    "tags": []
   },
   "outputs": [],
   "source": [
    "preds = model.predict(test_X)"
   ]
  },
  {
   "cell_type": "code",
   "execution_count": 61,
   "id": "bd8465af",
   "metadata": {
    "execution": {
     "iopub.execute_input": "2023-08-20T13:19:14.477993Z",
     "iopub.status.busy": "2023-08-20T13:19:14.476808Z",
     "iopub.status.idle": "2023-08-20T13:19:14.492200Z",
     "shell.execute_reply": "2023-08-20T13:19:14.491053Z"
    },
    "papermill": {
     "duration": 0.049233,
     "end_time": "2023-08-20T13:19:14.494782",
     "exception": false,
     "start_time": "2023-08-20T13:19:14.445549",
     "status": "completed"
    },
    "tags": []
   },
   "outputs": [
    {
     "data": {
      "text/plain": [
       "0.8599984161127319"
      ]
     },
     "execution_count": 61,
     "metadata": {},
     "output_type": "execute_result"
    }
   ],
   "source": [
    "from sklearn.metrics import roc_auc_score\n",
    "\n",
    "roc_auc_score(test_y,preds)"
   ]
  }
 ],
 "metadata": {
  "kernelspec": {
   "display_name": "Python 3",
   "language": "python",
   "name": "python3"
  },
  "language_info": {
   "codemirror_mode": {
    "name": "ipython",
    "version": 3
   },
   "file_extension": ".py",
   "mimetype": "text/x-python",
   "name": "python",
   "nbconvert_exporter": "python",
   "pygments_lexer": "ipython3",
   "version": "3.10.12"
  },
  "papermill": {
   "default_parameters": {},
   "duration": 26.599014,
   "end_time": "2023-08-20T13:19:15.447657",
   "environment_variables": {},
   "exception": null,
   "input_path": "__notebook__.ipynb",
   "output_path": "__notebook__.ipynb",
   "parameters": {},
   "start_time": "2023-08-20T13:18:48.848643",
   "version": "2.4.0"
  }
 },
 "nbformat": 4,
 "nbformat_minor": 5
}
